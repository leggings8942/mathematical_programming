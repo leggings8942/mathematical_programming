{
 "cells": [
  {
   "cell_type": "code",
   "execution_count": 1,
   "metadata": {},
   "outputs": [],
   "source": [
    "import numpy as np"
   ]
  },
  {
   "cell_type": "code",
   "execution_count": 23,
   "metadata": {},
   "outputs": [
    {
     "name": "stdout",
     "output_type": "stream",
     "text": [
      "[[ 0.26726124  0.53452248  0.80178373]\n",
      " [ 0.53452248  0.61007347 -0.5848898 ]\n",
      " [ 0.80178373 -0.5848898   0.12266529]]\n"
     ]
    }
   ],
   "source": [
    "def householder(n:np.ndarray) -> np.ndarray:\n",
    "\tn = np.array(n, float)\n",
    "\t# n = n/np.linalg.norm(n)\n",
    "\tn[0] = n[0] - 1\n",
    "\tn = n/np.linalg.norm(n)\n",
    "\tH = np.eye(len(n)) - 2*np.outer(n, n)\n",
    "\treturn H\n",
    "\n",
    "f = np.array([0.26726124, 0.53452248, 0.80178373], float)\n",
    "H = householder(f)\n",
    "print(H)"
   ]
  }
 ],
 "metadata": {
  "kernelspec": {
   "display_name": "Python 3",
   "language": "python",
   "name": "python3"
  },
  "language_info": {
   "codemirror_mode": {
    "name": "ipython",
    "version": 3
   },
   "file_extension": ".py",
   "mimetype": "text/x-python",
   "name": "python",
   "nbconvert_exporter": "python",
   "pygments_lexer": "ipython3",
   "version": "3.13.1"
  }
 },
 "nbformat": 4,
 "nbformat_minor": 2
}
