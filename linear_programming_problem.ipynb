{
 "cells": [
  {
   "cell_type": "code",
   "execution_count": 1,
   "metadata": {},
   "outputs": [
    {
     "data": {
      "text/plain": [
       "\"utf8\""
      ]
     },
     "metadata": {},
     "output_type": "display_data"
    }
   ],
   "source": [
    "push!(LOAD_PATH, pwd() * \"/my_module\")\n",
    "ENV[\"GKS_ENCODING\"]=\"utf8\""
   ]
  },
  {
   "cell_type": "code",
   "execution_count": 2,
   "metadata": {},
   "outputs": [
    {
     "data": {
      "text/plain": [
       "Plots.GRBackend()"
      ]
     },
     "metadata": {},
     "output_type": "display_data"
    }
   ],
   "source": [
    "using Revise\n",
    "using Plots\n",
    "using linear_prog_prob: simplex\n",
    "\n",
    "gr(fontfamily=\"IPAMincho\")"
   ]
  },
  {
   "cell_type": "code",
   "execution_count": 3,
   "metadata": {},
   "outputs": [
    {
     "data": {
      "image/png": "[encoded data removed]",
      "image/svg+xml": [
       "<?xml version=\"1.0\" encoding=\"utf-8\"?>\n",
       "<svg xmlns=\"http://www.w3.org/2000/svg\" xmlns:xlink=\"http://www.w3.org/1999/xlink\" width=\"600\" height=\"400\" viewBox=\"0 0 2400 1600\">\n",
       "<defs>\n",
       "  <clipPath id=\"clip010\">\n",
       "    <rect x=\"0\" y=\"0\" width=\"2400\" height=\"1600\"/>\n",
       "  </clipPath>\n",
       "</defs>\n",
       "<path clip-path=\"url(#clip010)\" d=\"M0 1600 L2400 1600 L2400 8.88178e-14 L0 8.88178e-14  Z\" fill=\"#ffffff\" fill-rule=\"evenodd\" fill-opacity=\"1\"/>\n",
       "<defs>\n",
       "  <clipPath id=\"clip011\">\n",
       "    <rect x=\"480\" y=\"0\" width=\"1681\" height=\"1600\"/>\n",
       "  </clipPath>\n",
       "</defs>\n",
       "<path clip-path=\"url(#clip010)\" d=\"M112.865 1488.25 L2352.76 1488.25 L2352.76 47.2441 L112.865 47.2441  Z\" fill=\"#ffffff\" fill-rule=\"evenodd\" fill-opacity=\"1\"/>\n",
       "<defs>\n",
       "  <clipPath id=\"clip012\">\n",
       "    <rect x=\"112\" y=\"47\" width=\"2241\" height=\"1442\"/>\n",
       "  </clipPath>\n",
       "</defs>\n",
       "<polyline clip-path=\"url(#clip012)\" style=\"stroke:#000000; stroke-linecap:round; stroke-linejoin:round; stroke-width:2; stroke-opacity:0.1; fill:none\" points=\"176.259,1488.25 176.259,47.2441 \"/>\n",
       "<polyline clip-path=\"url(#clip012)\" style=\"stroke:#000000; stroke-linecap:round; stroke-linejoin:round; stroke-width:2; stroke-opacity:0.1; fill:none\" points=\"704.535,1488.25 704.535,47.2441 \"/>\n",
       "<polyline clip-path=\"url(#clip012)\" style=\"stroke:#000000; stroke-linecap:round; stroke-linejoin:round; stroke-width:2; stroke-opacity:0.1; fill:none\" points=\"1232.81,1488.25 1232.81,47.2441 \"/>\n",
       "<polyline clip-path=\"url(#clip012)\" style=\"stroke:#000000; stroke-linecap:round; stroke-linejoin:round; stroke-width:2; stroke-opacity:0.1; fill:none\" points=\"1761.09,1488.25 1761.09,47.2441 \"/>\n",
       "<polyline clip-path=\"url(#clip012)\" style=\"stroke:#000000; stroke-linecap:round; stroke-linejoin:round; stroke-width:2; stroke-opacity:0.1; fill:none\" points=\"2289.36,1488.25 2289.36,47.2441 \"/>\n",
       "<polyline clip-path=\"url(#clip012)\" style=\"stroke:#000000; stroke-linecap:round; stroke-linejoin:round; stroke-width:2; stroke-opacity:0.1; fill:none\" points=\"112.865,1488.25 2352.76,1488.25 \"/>\n",
       "<polyline clip-path=\"url(#clip012)\" style=\"stroke:#000000; stroke-linecap:round; stroke-linejoin:round; stroke-width:2; stroke-opacity:0.1; fill:none\" points=\"112.865,1248.09 2352.76,1248.09 \"/>\n",
       "<polyline clip-path=\"url(#clip012)\" style=\"stroke:#000000; stroke-linecap:round; stroke-linejoin:round; stroke-width:2; stroke-opacity:0.1; fill:none\" points=\"112.865,1007.92 2352.76,1007.92 \"/>\n",
       "<polyline clip-path=\"url(#clip012)\" style=\"stroke:#000000; stroke-linecap:round; stroke-linejoin:round; stroke-width:2; stroke-opacity:0.1; fill:none\" points=\"112.865,767.749 2352.76,767.749 \"/>\n",
       "<polyline clip-path=\"url(#clip012)\" style=\"stroke:#000000; stroke-linecap:round; stroke-linejoin:round; stroke-width:2; stroke-opacity:0.1; fill:none\" points=\"112.865,527.581 2352.76,527.581 \"/>\n",
       "<polyline clip-path=\"url(#clip012)\" style=\"stroke:#000000; stroke-linecap:round; stroke-linejoin:round; stroke-width:2; stroke-opacity:0.1; fill:none\" points=\"112.865,287.412 2352.76,287.412 \"/>\n",
       "<polyline clip-path=\"url(#clip012)\" style=\"stroke:#000000; stroke-linecap:round; stroke-linejoin:round; stroke-width:2; stroke-opacity:0.1; fill:none\" points=\"112.865,47.2441 2352.76,47.2441 \"/>\n",
       "<polyline clip-path=\"url(#clip010)\" style=\"stroke:#000000; stroke-linecap:round; stroke-linejoin:round; stroke-width:4; stroke-opacity:1; fill:none\" points=\"112.865,1488.25 2352.76,1488.25 \"/>\n",
       "<polyline clip-path=\"url(#clip010)\" style=\"stroke:#000000; stroke-linecap:round; stroke-linejoin:round; stroke-width:4; stroke-opacity:1; fill:none\" points=\"176.259,1488.25 176.259,1469.36 \"/>\n",
       "<polyline clip-path=\"url(#clip010)\" style=\"stroke:#000000; stroke-linecap:round; stroke-linejoin:round; stroke-width:4; stroke-opacity:1; fill:none\" points=\"704.535,1488.25 704.535,1469.36 \"/>\n",
       "<polyline clip-path=\"url(#clip010)\" style=\"stroke:#000000; stroke-linecap:round; stroke-linejoin:round; stroke-width:4; stroke-opacity:1; fill:none\" points=\"1232.81,1488.25 1232.81,1469.36 \"/>\n",
       "<polyline clip-path=\"url(#clip010)\" style=\"stroke:#000000; stroke-linecap:round; stroke-linejoin:round; stroke-width:4; stroke-opacity:1; fill:none\" points=\"1761.09,1488.25 1761.09,1469.36 \"/>\n",
       "<polyline clip-path=\"url(#clip010)\" style=\"stroke:#000000; stroke-linecap:round; stroke-linejoin:round; stroke-width:4; stroke-opacity:1; fill:none\" points=\"2289.36,1488.25 2289.36,1469.36 \"/>\n",
       "<g clip-path=\"url(#clip010)\">\n",
       "<text style=\"fill:#000000; fill-opacity:1; font-family:Century Gothic,CenturyGothic,AppleGothic,sans-serif; font-size:47px; text-anchor:middle;\" transform=\"rotate(0, 176.259, 1549.52)\" x=\"176.259\" y=\"1549.52\">0</text>\n",
       "</g>\n",
       "<g clip-path=\"url(#clip010)\">\n",
       "<text style=\"fill:#000000; fill-opacity:1; font-family:Century Gothic,CenturyGothic,AppleGothic,sans-serif; font-size:47px; text-anchor:middle;\" transform=\"rotate(0, 704.535, 1549.52)\" x=\"704.535\" y=\"1549.52\">2</text>\n",
       "</g>\n",
       "<g clip-path=\"url(#clip010)\">\n",
       "<text style=\"fill:#000000; fill-opacity:1; font-family:Century Gothic,CenturyGothic,AppleGothic,sans-serif; font-size:47px; text-anchor:middle;\" transform=\"rotate(0, 1232.81, 1549.52)\" x=\"1232.81\" y=\"1549.52\">4</text>\n",
       "</g>\n",
       "<g clip-path=\"url(#clip010)\">\n",
       "<text style=\"fill:#000000; fill-opacity:1; font-family:Century Gothic,CenturyGothic,AppleGothic,sans-serif; font-size:47px; text-anchor:middle;\" transform=\"rotate(0, 1761.09, 1549.52)\" x=\"1761.09\" y=\"1549.52\">6</text>\n",
       "</g>\n",
       "<g clip-path=\"url(#clip010)\">\n",
       "<text style=\"fill:#000000; fill-opacity:1; font-family:Century Gothic,CenturyGothic,AppleGothic,sans-serif; font-size:47px; text-anchor:middle;\" transform=\"rotate(0, 2289.36, 1549.52)\" x=\"2289.36\" y=\"1549.52\">8</text>\n",
       "</g>\n",
       "<polyline clip-path=\"url(#clip010)\" style=\"stroke:#000000; stroke-linecap:round; stroke-linejoin:round; stroke-width:4; stroke-opacity:1; fill:none\" points=\"112.865,1488.25 112.865,47.2441 \"/>\n",
       "<polyline clip-path=\"url(#clip010)\" style=\"stroke:#000000; stroke-linecap:round; stroke-linejoin:round; stroke-width:4; stroke-opacity:1; fill:none\" points=\"112.865,1488.25 131.763,1488.25 \"/>\n",
       "<polyline clip-path=\"url(#clip010)\" style=\"stroke:#000000; stroke-linecap:round; stroke-linejoin:round; stroke-width:4; stroke-opacity:1; fill:none\" points=\"112.865,1248.09 131.763,1248.09 \"/>\n",
       "<polyline clip-path=\"url(#clip010)\" style=\"stroke:#000000; stroke-linecap:round; stroke-linejoin:round; stroke-width:4; stroke-opacity:1; fill:none\" points=\"112.865,1007.92 131.763,1007.92 \"/>\n",
       "<polyline clip-path=\"url(#clip010)\" style=\"stroke:#000000; stroke-linecap:round; stroke-linejoin:round; stroke-width:4; stroke-opacity:1; fill:none\" points=\"112.865,767.749 131.763,767.749 \"/>\n",
       "<polyline clip-path=\"url(#clip010)\" style=\"stroke:#000000; stroke-linecap:round; stroke-linejoin:round; stroke-width:4; stroke-opacity:1; fill:none\" points=\"112.865,527.581 131.763,527.581 \"/>\n",
       "<polyline clip-path=\"url(#clip010)\" style=\"stroke:#000000; stroke-linecap:round; stroke-linejoin:round; stroke-width:4; stroke-opacity:1; fill:none\" points=\"112.865,287.412 131.763,287.412 \"/>\n",
       "<polyline clip-path=\"url(#clip010)\" style=\"stroke:#000000; stroke-linecap:round; stroke-linejoin:round; stroke-width:4; stroke-opacity:1; fill:none\" points=\"112.865,47.2441 131.763,47.2441 \"/>\n",
       "<g clip-path=\"url(#clip010)\">\n",
       "<text style=\"fill:#000000; fill-opacity:1; font-family:Century Gothic,CenturyGothic,AppleGothic,sans-serif; font-size:47px; text-anchor:middle;\" transform=\"rotate(0, 63.9288, 1505.75)\" x=\"63.9288\" y=\"1505.75\">0</text>\n",
       "</g>\n",
       "<g clip-path=\"url(#clip010)\">\n",
       "<text style=\"fill:#000000; fill-opacity:1; font-family:Century Gothic,CenturyGothic,AppleGothic,sans-serif; font-size:47px; text-anchor:middle;\" transform=\"rotate(0, 63.9288, 1265.59)\" x=\"63.9288\" y=\"1265.59\">1</text>\n",
       "</g>\n",
       "<g clip-path=\"url(#clip010)\">\n",
       "<text style=\"fill:#000000; fill-opacity:1; font-family:Century Gothic,CenturyGothic,AppleGothic,sans-serif; font-size:47px; text-anchor:middle;\" transform=\"rotate(0, 63.9288, 1025.42)\" x=\"63.9288\" y=\"1025.42\">2</text>\n",
       "</g>\n",
       "<g clip-path=\"url(#clip010)\">\n",
       "<text style=\"fill:#000000; fill-opacity:1; font-family:Century Gothic,CenturyGothic,AppleGothic,sans-serif; font-size:47px; text-anchor:middle;\" transform=\"rotate(0, 63.9288, 785.249)\" x=\"63.9288\" y=\"785.249\">3</text>\n",
       "</g>\n",
       "<g clip-path=\"url(#clip010)\">\n",
       "<text style=\"fill:#000000; fill-opacity:1; font-family:Century Gothic,CenturyGothic,AppleGothic,sans-serif; font-size:47px; text-anchor:middle;\" transform=\"rotate(0, 63.9288, 545.081)\" x=\"63.9288\" y=\"545.081\">4</text>\n",
       "</g>\n",
       "<g clip-path=\"url(#clip010)\">\n",
       "<text style=\"fill:#000000; fill-opacity:1; font-family:Century Gothic,CenturyGothic,AppleGothic,sans-serif; font-size:47px; text-anchor:middle;\" transform=\"rotate(0, 63.9288, 304.912)\" x=\"63.9288\" y=\"304.912\">5</text>\n",
       "</g>\n",
       "<g clip-path=\"url(#clip010)\">\n",
       "<text style=\"fill:#000000; fill-opacity:1; font-family:Century Gothic,CenturyGothic,AppleGothic,sans-serif; font-size:47px; text-anchor:middle;\" transform=\"rotate(0, 63.9288, 64.7441)\" x=\"63.9288\" y=\"64.7441\">6</text>\n",
       "</g>\n",
       "<polyline clip-path=\"url(#clip012)\" style=\"stroke:#009af9; stroke-linecap:round; stroke-linejoin:round; stroke-width:4; stroke-opacity:1; fill:none\" points=\"176.259,287.412 440.397,407.496 704.535,527.581 968.673,647.665 1232.81,767.749 1496.95,887.833 1761.09,1007.92 2025.22,1128 2289.36,1248.09 \"/>\n",
       "<polyline clip-path=\"url(#clip012)\" style=\"stroke:#e26f46; stroke-linecap:round; stroke-linejoin:round; stroke-width:4; stroke-opacity:1; fill:none\" points=\"176.259,47.2441 440.397,227.37 704.535,407.496 968.673,587.623 1232.81,767.749 1496.95,947.875 1761.09,1128 2025.22,1308.13 2289.36,1488.25 \"/>\n",
       "<polyline clip-path=\"url(#clip012)\" style=\"stroke:#3da44d; stroke-linecap:round; stroke-linejoin:round; stroke-width:4; stroke-opacity:1; fill:none\" points=\"176.259,-1874.1 440.397,-1393.77 704.535,-913.429 968.673,-433.092 1232.81,47.2441 1496.95,527.581 1761.09,1007.92 2025.22,1488.25 2289.36,1968.59 \"/>\n",
       "<circle clip-path=\"url(#clip012)\" cx=\"176.259\" cy=\"1488.25\" r=\"14.4\" fill=\"#c271d2\" fill-rule=\"evenodd\" fill-opacity=\"1\" stroke=\"#000000\" stroke-opacity=\"1\" stroke-width=\"3.2\"/>\n",
       "<circle clip-path=\"url(#clip012)\" cx=\"176.259\" cy=\"287.412\" r=\"14.4\" fill=\"#c271d2\" fill-rule=\"evenodd\" fill-opacity=\"1\" stroke=\"#000000\" stroke-opacity=\"1\" stroke-width=\"3.2\"/>\n",
       "<circle clip-path=\"url(#clip012)\" cx=\"1232.81\" cy=\"767.749\" r=\"14.4\" fill=\"#c271d2\" fill-rule=\"evenodd\" fill-opacity=\"1\" stroke=\"#000000\" stroke-opacity=\"1\" stroke-width=\"3.2\"/>\n",
       "<circle clip-path=\"url(#clip012)\" cx=\"1866.74\" cy=\"1200.05\" r=\"14.4\" fill=\"#c271d2\" fill-rule=\"evenodd\" fill-opacity=\"1\" stroke=\"#000000\" stroke-opacity=\"1\" stroke-width=\"3.2\"/>\n",
       "<circle clip-path=\"url(#clip012)\" cx=\"2025.22\" cy=\"1488.25\" r=\"14.4\" fill=\"#c271d2\" fill-rule=\"evenodd\" fill-opacity=\"1\" stroke=\"#000000\" stroke-opacity=\"1\" stroke-width=\"3.2\"/>\n",
       "<path clip-path=\"url(#clip010)\" d=\"M1917.83 340.934 L2278.09 340.934 L2278.09 95.2777 L1917.83 95.2777  Z\" fill=\"#ffffff\" fill-rule=\"evenodd\" fill-opacity=\"1\"/>\n",
       "<polyline clip-path=\"url(#clip010)\" style=\"stroke:#000000; stroke-linecap:round; stroke-linejoin:round; stroke-width:4; stroke-opacity:1; fill:none\" points=\"1917.83,340.934 2278.09,340.934 2278.09,95.2777 1917.83,95.2777 1917.83,340.934 \"/>\n",
       "<polyline clip-path=\"url(#clip010)\" style=\"stroke:#009af9; stroke-linecap:round; stroke-linejoin:round; stroke-width:4; stroke-opacity:1; fill:none\" points=\"1942.71,144.409 2092.04,144.409 \"/>\n",
       "<g clip-path=\"url(#clip010)\">\n",
       "<text style=\"fill:#000000; fill-opacity:1; font-family:Century Gothic,CenturyGothic,AppleGothic,sans-serif; font-size:47px; text-anchor:start;\" transform=\"rotate(0, 2116.93, 161.909)\" x=\"2116.93\" y=\"161.909\">制約条件1</text>\n",
       "</g>\n",
       "<polyline clip-path=\"url(#clip010)\" style=\"stroke:#e26f46; stroke-linecap:round; stroke-linejoin:round; stroke-width:4; stroke-opacity:1; fill:none\" points=\"1942.71,193.54 2092.04,193.54 \"/>\n",
       "<g clip-path=\"url(#clip010)\">\n",
       "<text style=\"fill:#000000; fill-opacity:1; font-family:Century Gothic,CenturyGothic,AppleGothic,sans-serif; font-size:47px; text-anchor:start;\" transform=\"rotate(0, 2116.93, 211.04)\" x=\"2116.93\" y=\"211.04\">制約条件2</text>\n",
       "</g>\n",
       "<polyline clip-path=\"url(#clip010)\" style=\"stroke:#3da44d; stroke-linecap:round; stroke-linejoin:round; stroke-width:4; stroke-opacity:1; fill:none\" points=\"1942.71,242.671 2092.04,242.671 \"/>\n",
       "<g clip-path=\"url(#clip010)\">\n",
       "<text style=\"fill:#000000; fill-opacity:1; font-family:Century Gothic,CenturyGothic,AppleGothic,sans-serif; font-size:47px; text-anchor:start;\" transform=\"rotate(0, 2116.93, 260.171)\" x=\"2116.93\" y=\"260.171\">制約条件3</text>\n",
       "</g>\n",
       "<circle clip-path=\"url(#clip010)\" cx=\"2017.38\" cy=\"291.803\" r=\"20.48\" fill=\"#c271d2\" fill-rule=\"evenodd\" fill-opacity=\"1\" stroke=\"#000000\" stroke-opacity=\"1\" stroke-width=\"4.55111\"/>\n",
       "<g clip-path=\"url(#clip010)\">\n",
       "<text style=\"fill:#000000; fill-opacity:1; font-family:Century Gothic,CenturyGothic,AppleGothic,sans-serif; font-size:47px; text-anchor:start;\" transform=\"rotate(0, 2116.93, 309.303)\" x=\"2116.93\" y=\"309.303\">解の候補</text>\n",
       "</g>\n",
       "</svg>\n"
      ],
      "text/html": [
       "<?xml version=\"1.0\" encoding=\"utf-8\"?>\n",
       "<svg xmlns=\"http://www.w3.org/2000/svg\" xmlns:xlink=\"http://www.w3.org/1999/xlink\" width=\"600\" height=\"400\" viewBox=\"0 0 2400 1600\">\n",
       "<defs>\n",
       "  <clipPath id=\"clip060\">\n",
       "    <rect x=\"0\" y=\"0\" width=\"2400\" height=\"1600\"/>\n",
       "  </clipPath>\n",
       "</defs>\n",
       "<path clip-path=\"url(#clip060)\" d=\"M0 1600 L2400 1600 L2400 8.88178e-14 L0 8.88178e-14  Z\" fill=\"#ffffff\" fill-rule=\"evenodd\" fill-opacity=\"1\"/>\n",
       "<defs>\n",
       "  <clipPath id=\"clip061\">\n",
       "    <rect x=\"480\" y=\"0\" width=\"1681\" height=\"1600\"/>\n",
       "  </clipPath>\n",
       "</defs>\n",
       "<path clip-path=\"url(#clip060)\" d=\"M112.865 1488.25 L2352.76 1488.25 L2352.76 47.2441 L112.865 47.2441  Z\" fill=\"#ffffff\" fill-rule=\"evenodd\" fill-opacity=\"1\"/>\n",
       "<defs>\n",
       "  <clipPath id=\"clip062\">\n",
       "    <rect x=\"112\" y=\"47\" width=\"2241\" height=\"1442\"/>\n",
       "  </clipPath>\n",
       "</defs>\n",
       "<polyline clip-path=\"url(#clip062)\" style=\"stroke:#000000; stroke-linecap:round; stroke-linejoin:round; stroke-width:2; stroke-opacity:0.1; fill:none\" points=\"176.259,1488.25 176.259,47.2441 \"/>\n",
       "<polyline clip-path=\"url(#clip062)\" style=\"stroke:#000000; stroke-linecap:round; stroke-linejoin:round; stroke-width:2; stroke-opacity:0.1; fill:none\" points=\"704.535,1488.25 704.535,47.2441 \"/>\n",
       "<polyline clip-path=\"url(#clip062)\" style=\"stroke:#000000; stroke-linecap:round; stroke-linejoin:round; stroke-width:2; stroke-opacity:0.1; fill:none\" points=\"1232.81,1488.25 1232.81,47.2441 \"/>\n",
       "<polyline clip-path=\"url(#clip062)\" style=\"stroke:#000000; stroke-linecap:round; stroke-linejoin:round; stroke-width:2; stroke-opacity:0.1; fill:none\" points=\"1761.09,1488.25 1761.09,47.2441 \"/>\n",
       "<polyline clip-path=\"url(#clip062)\" style=\"stroke:#000000; stroke-linecap:round; stroke-linejoin:round; stroke-width:2; stroke-opacity:0.1; fill:none\" points=\"2289.36,1488.25 2289.36,47.2441 \"/>\n",
       "<polyline clip-path=\"url(#clip062)\" style=\"stroke:#000000; stroke-linecap:round; stroke-linejoin:round; stroke-width:2; stroke-opacity:0.1; fill:none\" points=\"112.865,1488.25 2352.76,1488.25 \"/>\n",
       "<polyline clip-path=\"url(#clip062)\" style=\"stroke:#000000; stroke-linecap:round; stroke-linejoin:round; stroke-width:2; stroke-opacity:0.1; fill:none\" points=\"112.865,1248.09 2352.76,1248.09 \"/>\n",
       "<polyline clip-path=\"url(#clip062)\" style=\"stroke:#000000; stroke-linecap:round; stroke-linejoin:round; stroke-width:2; stroke-opacity:0.1; fill:none\" points=\"112.865,1007.92 2352.76,1007.92 \"/>\n",
       "<polyline clip-path=\"url(#clip062)\" style=\"stroke:#000000; stroke-linecap:round; stroke-linejoin:round; stroke-width:2; stroke-opacity:0.1; fill:none\" points=\"112.865,767.749 2352.76,767.749 \"/>\n",
       "<polyline clip-path=\"url(#clip062)\" style=\"stroke:#000000; stroke-linecap:round; stroke-linejoin:round; stroke-width:2; stroke-opacity:0.1; fill:none\" points=\"112.865,527.581 2352.76,527.581 \"/>\n",
       "<polyline clip-path=\"url(#clip062)\" style=\"stroke:#000000; stroke-linecap:round; stroke-linejoin:round; stroke-width:2; stroke-opacity:0.1; fill:none\" points=\"112.865,287.412 2352.76,287.412 \"/>\n",
       "<polyline clip-path=\"url(#clip062)\" style=\"stroke:#000000; stroke-linecap:round; stroke-linejoin:round; stroke-width:2; stroke-opacity:0.1; fill:none\" points=\"112.865,47.2441 2352.76,47.2441 \"/>\n",
       "<polyline clip-path=\"url(#clip060)\" style=\"stroke:#000000; stroke-linecap:round; stroke-linejoin:round; stroke-width:4; stroke-opacity:1; fill:none\" points=\"112.865,1488.25 2352.76,1488.25 \"/>\n",
       "<polyline clip-path=\"url(#clip060)\" style=\"stroke:#000000; stroke-linecap:round; stroke-linejoin:round; stroke-width:4; stroke-opacity:1; fill:none\" points=\"176.259,1488.25 176.259,1469.36 \"/>\n",
       "<polyline clip-path=\"url(#clip060)\" style=\"stroke:#000000; stroke-linecap:round; stroke-linejoin:round; stroke-width:4; stroke-opacity:1; fill:none\" points=\"704.535,1488.25 704.535,1469.36 \"/>\n",
       "<polyline clip-path=\"url(#clip060)\" style=\"stroke:#000000; stroke-linecap:round; stroke-linejoin:round; stroke-width:4; stroke-opacity:1; fill:none\" points=\"1232.81,1488.25 1232.81,1469.36 \"/>\n",
       "<polyline clip-path=\"url(#clip060)\" style=\"stroke:#000000; stroke-linecap:round; stroke-linejoin:round; stroke-width:4; stroke-opacity:1; fill:none\" points=\"1761.09,1488.25 1761.09,1469.36 \"/>\n",
       "<polyline clip-path=\"url(#clip060)\" style=\"stroke:#000000; stroke-linecap:round; stroke-linejoin:round; stroke-width:4; stroke-opacity:1; fill:none\" points=\"2289.36,1488.25 2289.36,1469.36 \"/>\n",
       "<g clip-path=\"url(#clip060)\">\n",
       "<text style=\"fill:#000000; fill-opacity:1; font-family:Century Gothic,CenturyGothic,AppleGothic,sans-serif; font-size:47px; text-anchor:middle;\" transform=\"rotate(0, 176.259, 1549.52)\" x=\"176.259\" y=\"1549.52\">0</text>\n",
       "</g>\n",
       "<g clip-path=\"url(#clip060)\">\n",
       "<text style=\"fill:#000000; fill-opacity:1; font-family:Century Gothic,CenturyGothic,AppleGothic,sans-serif; font-size:47px; text-anchor:middle;\" transform=\"rotate(0, 704.535, 1549.52)\" x=\"704.535\" y=\"1549.52\">2</text>\n",
       "</g>\n",
       "<g clip-path=\"url(#clip060)\">\n",
       "<text style=\"fill:#000000; fill-opacity:1; font-family:Century Gothic,CenturyGothic,AppleGothic,sans-serif; font-size:47px; text-anchor:middle;\" transform=\"rotate(0, 1232.81, 1549.52)\" x=\"1232.81\" y=\"1549.52\">4</text>\n",
       "</g>\n",
       "<g clip-path=\"url(#clip060)\">\n",
       "<text style=\"fill:#000000; fill-opacity:1; font-family:Century Gothic,CenturyGothic,AppleGothic,sans-serif; font-size:47px; text-anchor:middle;\" transform=\"rotate(0, 1761.09, 1549.52)\" x=\"1761.09\" y=\"1549.52\">6</text>\n",
       "</g>\n",
       "<g clip-path=\"url(#clip060)\">\n",
       "<text style=\"fill:#000000; fill-opacity:1; font-family:Century Gothic,CenturyGothic,AppleGothic,sans-serif; font-size:47px; text-anchor:middle;\" transform=\"rotate(0, 2289.36, 1549.52)\" x=\"2289.36\" y=\"1549.52\">8</text>\n",
       "</g>\n",
       "<polyline clip-path=\"url(#clip060)\" style=\"stroke:#000000; stroke-linecap:round; stroke-linejoin:round; stroke-width:4; stroke-opacity:1; fill:none\" points=\"112.865,1488.25 112.865,47.2441 \"/>\n",
       "<polyline clip-path=\"url(#clip060)\" style=\"stroke:#000000; stroke-linecap:round; stroke-linejoin:round; stroke-width:4; stroke-opacity:1; fill:none\" points=\"112.865,1488.25 131.763,1488.25 \"/>\n",
       "<polyline clip-path=\"url(#clip060)\" style=\"stroke:#000000; stroke-linecap:round; stroke-linejoin:round; stroke-width:4; stroke-opacity:1; fill:none\" points=\"112.865,1248.09 131.763,1248.09 \"/>\n",
       "<polyline clip-path=\"url(#clip060)\" style=\"stroke:#000000; stroke-linecap:round; stroke-linejoin:round; stroke-width:4; stroke-opacity:1; fill:none\" points=\"112.865,1007.92 131.763,1007.92 \"/>\n",
       "<polyline clip-path=\"url(#clip060)\" style=\"stroke:#000000; stroke-linecap:round; stroke-linejoin:round; stroke-width:4; stroke-opacity:1; fill:none\" points=\"112.865,767.749 131.763,767.749 \"/>\n",
       "<polyline clip-path=\"url(#clip060)\" style=\"stroke:#000000; stroke-linecap:round; stroke-linejoin:round; stroke-width:4; stroke-opacity:1; fill:none\" points=\"112.865,527.581 131.763,527.581 \"/>\n",
       "<polyline clip-path=\"url(#clip060)\" style=\"stroke:#000000; stroke-linecap:round; stroke-linejoin:round; stroke-width:4; stroke-opacity:1; fill:none\" points=\"112.865,287.412 131.763,287.412 \"/>\n",
       "<polyline clip-path=\"url(#clip060)\" style=\"stroke:#000000; stroke-linecap:round; stroke-linejoin:round; stroke-width:4; stroke-opacity:1; fill:none\" points=\"112.865,47.2441 131.763,47.2441 \"/>\n",
       "<g clip-path=\"url(#clip060)\">\n",
       "<text style=\"fill:#000000; fill-opacity:1; font-family:Century Gothic,CenturyGothic,AppleGothic,sans-serif; font-size:47px; text-anchor:middle;\" transform=\"rotate(0, 63.9288, 1505.75)\" x=\"63.9288\" y=\"1505.75\">0</text>\n",
       "</g>\n",
       "<g clip-path=\"url(#clip060)\">\n",
       "<text style=\"fill:#000000; fill-opacity:1; font-family:Century Gothic,CenturyGothic,AppleGothic,sans-serif; font-size:47px; text-anchor:middle;\" transform=\"rotate(0, 63.9288, 1265.59)\" x=\"63.9288\" y=\"1265.59\">1</text>\n",
       "</g>\n",
       "<g clip-path=\"url(#clip060)\">\n",
       "<text style=\"fill:#000000; fill-opacity:1; font-family:Century Gothic,CenturyGothic,AppleGothic,sans-serif; font-size:47px; text-anchor:middle;\" transform=\"rotate(0, 63.9288, 1025.42)\" x=\"63.9288\" y=\"1025.42\">2</text>\n",
       "</g>\n",
       "<g clip-path=\"url(#clip060)\">\n",
       "<text style=\"fill:#000000; fill-opacity:1; font-family:Century Gothic,CenturyGothic,AppleGothic,sans-serif; font-size:47px; text-anchor:middle;\" transform=\"rotate(0, 63.9288, 785.249)\" x=\"63.9288\" y=\"785.249\">3</text>\n",
       "</g>\n",
       "<g clip-path=\"url(#clip060)\">\n",
       "<text style=\"fill:#000000; fill-opacity:1; font-family:Century Gothic,CenturyGothic,AppleGothic,sans-serif; font-size:47px; text-anchor:middle;\" transform=\"rotate(0, 63.9288, 545.081)\" x=\"63.9288\" y=\"545.081\">4</text>\n",
       "</g>\n",
       "<g clip-path=\"url(#clip060)\">\n",
       "<text style=\"fill:#000000; fill-opacity:1; font-family:Century Gothic,CenturyGothic,AppleGothic,sans-serif; font-size:47px; text-anchor:middle;\" transform=\"rotate(0, 63.9288, 304.912)\" x=\"63.9288\" y=\"304.912\">5</text>\n",
       "</g>\n",
       "<g clip-path=\"url(#clip060)\">\n",
       "<text style=\"fill:#000000; fill-opacity:1; font-family:Century Gothic,CenturyGothic,AppleGothic,sans-serif; font-size:47px; text-anchor:middle;\" transform=\"rotate(0, 63.9288, 64.7441)\" x=\"63.9288\" y=\"64.7441\">6</text>\n",
       "</g>\n",
       "<polyline clip-path=\"url(#clip062)\" style=\"stroke:#009af9; stroke-linecap:round; stroke-linejoin:round; stroke-width:4; stroke-opacity:1; fill:none\" points=\"176.259,287.412 440.397,407.496 704.535,527.581 968.673,647.665 1232.81,767.749 1496.95,887.833 1761.09,1007.92 2025.22,1128 2289.36,1248.09 \"/>\n",
       "<polyline clip-path=\"url(#clip062)\" style=\"stroke:#e26f46; stroke-linecap:round; stroke-linejoin:round; stroke-width:4; stroke-opacity:1; fill:none\" points=\"176.259,47.2441 440.397,227.37 704.535,407.496 968.673,587.623 1232.81,767.749 1496.95,947.875 1761.09,1128 2025.22,1308.13 2289.36,1488.25 \"/>\n",
       "<polyline clip-path=\"url(#clip062)\" style=\"stroke:#3da44d; stroke-linecap:round; stroke-linejoin:round; stroke-width:4; stroke-opacity:1; fill:none\" points=\"176.259,-1874.1 440.397,-1393.77 704.535,-913.429 968.673,-433.092 1232.81,47.2441 1496.95,527.581 1761.09,1007.92 2025.22,1488.25 2289.36,1968.59 \"/>\n",
       "<circle clip-path=\"url(#clip062)\" cx=\"176.259\" cy=\"1488.25\" r=\"14.4\" fill=\"#c271d2\" fill-rule=\"evenodd\" fill-opacity=\"1\" stroke=\"#000000\" stroke-opacity=\"1\" stroke-width=\"3.2\"/>\n",
       "<circle clip-path=\"url(#clip062)\" cx=\"176.259\" cy=\"287.412\" r=\"14.4\" fill=\"#c271d2\" fill-rule=\"evenodd\" fill-opacity=\"1\" stroke=\"#000000\" stroke-opacity=\"1\" stroke-width=\"3.2\"/>\n",
       "<circle clip-path=\"url(#clip062)\" cx=\"1232.81\" cy=\"767.749\" r=\"14.4\" fill=\"#c271d2\" fill-rule=\"evenodd\" fill-opacity=\"1\" stroke=\"#000000\" stroke-opacity=\"1\" stroke-width=\"3.2\"/>\n",
       "<circle clip-path=\"url(#clip062)\" cx=\"1866.74\" cy=\"1200.05\" r=\"14.4\" fill=\"#c271d2\" fill-rule=\"evenodd\" fill-opacity=\"1\" stroke=\"#000000\" stroke-opacity=\"1\" stroke-width=\"3.2\"/>\n",
       "<circle clip-path=\"url(#clip062)\" cx=\"2025.22\" cy=\"1488.25\" r=\"14.4\" fill=\"#c271d2\" fill-rule=\"evenodd\" fill-opacity=\"1\" stroke=\"#000000\" stroke-opacity=\"1\" stroke-width=\"3.2\"/>\n",
       "<path clip-path=\"url(#clip060)\" d=\"M1917.83 340.934 L2278.09 340.934 L2278.09 95.2777 L1917.83 95.2777  Z\" fill=\"#ffffff\" fill-rule=\"evenodd\" fill-opacity=\"1\"/>\n",
       "<polyline clip-path=\"url(#clip060)\" style=\"stroke:#000000; stroke-linecap:round; stroke-linejoin:round; stroke-width:4; stroke-opacity:1; fill:none\" points=\"1917.83,340.934 2278.09,340.934 2278.09,95.2777 1917.83,95.2777 1917.83,340.934 \"/>\n",
       "<polyline clip-path=\"url(#clip060)\" style=\"stroke:#009af9; stroke-linecap:round; stroke-linejoin:round; stroke-width:4; stroke-opacity:1; fill:none\" points=\"1942.71,144.409 2092.04,144.409 \"/>\n",
       "<g clip-path=\"url(#clip060)\">\n",
       "<text style=\"fill:#000000; fill-opacity:1; font-family:Century Gothic,CenturyGothic,AppleGothic,sans-serif; font-size:47px; text-anchor:start;\" transform=\"rotate(0, 2116.93, 161.909)\" x=\"2116.93\" y=\"161.909\">制約条件1</text>\n",
       "</g>\n",
       "<polyline clip-path=\"url(#clip060)\" style=\"stroke:#e26f46; stroke-linecap:round; stroke-linejoin:round; stroke-width:4; stroke-opacity:1; fill:none\" points=\"1942.71,193.54 2092.04,193.54 \"/>\n",
       "<g clip-path=\"url(#clip060)\">\n",
       "<text style=\"fill:#000000; fill-opacity:1; font-family:Century Gothic,CenturyGothic,AppleGothic,sans-serif; font-size:47px; text-anchor:start;\" transform=\"rotate(0, 2116.93, 211.04)\" x=\"2116.93\" y=\"211.04\">制約条件2</text>\n",
       "</g>\n",
       "<polyline clip-path=\"url(#clip060)\" style=\"stroke:#3da44d; stroke-linecap:round; stroke-linejoin:round; stroke-width:4; stroke-opacity:1; fill:none\" points=\"1942.71,242.671 2092.04,242.671 \"/>\n",
       "<g clip-path=\"url(#clip060)\">\n",
       "<text style=\"fill:#000000; fill-opacity:1; font-family:Century Gothic,CenturyGothic,AppleGothic,sans-serif; font-size:47px; text-anchor:start;\" transform=\"rotate(0, 2116.93, 260.171)\" x=\"2116.93\" y=\"260.171\">制約条件3</text>\n",
       "</g>\n",
       "<circle clip-path=\"url(#clip060)\" cx=\"2017.38\" cy=\"291.803\" r=\"20.48\" fill=\"#c271d2\" fill-rule=\"evenodd\" fill-opacity=\"1\" stroke=\"#000000\" stroke-opacity=\"1\" stroke-width=\"4.55111\"/>\n",
       "<g clip-path=\"url(#clip060)\">\n",
       "<text style=\"fill:#000000; fill-opacity:1; font-family:Century Gothic,CenturyGothic,AppleGothic,sans-serif; font-size:47px; text-anchor:start;\" transform=\"rotate(0, 2116.93, 309.303)\" x=\"2116.93\" y=\"309.303\">解の候補</text>\n",
       "</g>\n",
       "</svg>\n"
      ]
     },
     "metadata": {},
     "output_type": "display_data"
    },
    {
     "name": "stderr",
     "output_type": "stream",
     "text": [
      "GKS: could not find font IPAMincho.ttf\n",
      "GKS: glyph missing from current font: 21046\n",
      "GKS: glyph missing from current font: 32004\n",
      "GKS: glyph missing from current font: 26465\n",
      "GKS: glyph missing from current font: 20214\n",
      "GKS: glyph missing from current font: 21046\n",
      "GKS: glyph missing from current font: 32004\n",
      "GKS: glyph missing from current font: 26465\n",
      "GKS: glyph missing from current font: 20214\n",
      "GKS: glyph missing from current font: 21046\n",
      "GKS: glyph missing from current font: 32004\n",
      "GKS: glyph missing from current font: 26465\n",
      "GKS: glyph missing from current font: 20214\n",
      "GKS: glyph missing from current font: 21046\n",
      "GKS: glyph missing from current font: 32004\n",
      "GKS: glyph missing from current font: 26465\n",
      "GKS: glyph missing from current font: 20214\n",
      "GKS: glyph missing from current font: 21046\n",
      "GKS: glyph missing from current font: 32004\n",
      "GKS: glyph missing from current font: 26465\n",
      "GKS: glyph missing from current font: 20214\n",
      "GKS: glyph missing from current font: 21046\n",
      "GKS: glyph missing from current font: 32004\n",
      "GKS: glyph missing from current font: 26465\n",
      "GKS: glyph missing from current font: 20214\n",
      "GKS: glyph missing from current font: 35299\n",
      "GKS: glyph missing from current font: 12398\n",
      "GKS: glyph missing from current font: 20505\n",
      "GKS: glyph missing from current font: 35036\n",
      "GKS: invalid bitmap size\n"
     ]
    }
   ],
   "source": [
    "x_data = 0:1:8\n",
    "plt = plot()\n",
    "plot!(plt, x_data, 5  .- x_data ./ 2,            label=\"制約条件1\", ylim=(0,6))\n",
    "plot!(plt, x_data, 6  .- x_data .* (3 / 4),      label=\"制約条件2\", ylim=(0,6))\n",
    "plot!(plt, x_data, 14 .- x_data .* 2,            label=\"制約条件3\", ylim=(0,6))\n",
    "plot!(plt, [0, 0, 4, 6.4, 7], [0, 5, 3, 1.2, 0], label=\"解の候補\",  st=:scatter)"
   ]
  },
  {
   "cell_type": "code",
   "execution_count": 11,
   "metadata": {},
   "outputs": [
    {
     "data": {
      "text/plain": [
       "object ="
      ]
     },
     "metadata": {},
     "output_type": "display_data"
    },
    {
     "data": {
      "text/plain": [
       "1×5 Matrix{Int64}:\n",
       " 5  8  0  0  0"
      ]
     },
     "metadata": {},
     "output_type": "display_data"
    },
    {
     "data": {
      "text/plain": [
       "conditions_A ="
      ]
     },
     "metadata": {},
     "output_type": "display_data"
    },
    {
     "data": {
      "text/plain": [
       "3×5 Matrix{Int64}:\n",
       " 1  2  1  0  0\n",
       " 3  4  0  1  0\n",
       " 2  1  0  0  1"
      ]
     },
     "metadata": {},
     "output_type": "display_data"
    },
    {
     "data": {
      "text/plain": [
       "conditions_b ="
      ]
     },
     "metadata": {},
     "output_type": "display_data"
    },
    {
     "data": {
      "text/plain": [
       "3-element Vector{Int64}:\n",
       " 10\n",
       " 24\n",
       " 14"
      ]
     },
     "metadata": {},
     "output_type": "display_data"
    },
    {
     "data": {
      "text/plain": [
       "3-element Vector{Int64}:\n",
       " 10\n",
       " 24\n",
       " 14"
      ]
     },
     "metadata": {},
     "output_type": "display_data"
    }
   ],
   "source": [
    "object       = [5 8 0 0 0]\n",
    "conditions_A = [1 2 1 0 0; 3 4 0 1 0; 2 1 0 0 1]\n",
    "conditions_b = [10, 24, 14]\n",
    "\n",
    "simplex(object, conditions_A, conditions_b)"
   ]
  }
 ],
 "metadata": {
  "kernelspec": {
   "display_name": "Julia 1.11.2",
   "language": "julia",
   "name": "julia-1.11"
  },
  "language_info": {
   "file_extension": ".jl",
   "mimetype": "application/julia",
   "name": "julia",
   "version": "1.11.2"
  }
 },
 "nbformat": 4,
 "nbformat_minor": 4
}
