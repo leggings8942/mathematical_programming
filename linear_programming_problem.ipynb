{
 "cells": [
  {
   "cell_type": "code",
   "execution_count": 1,
   "metadata": {},
   "outputs": [
    {
     "data": {
      "text/plain": [
       "\"utf8\""
      ]
     },
     "metadata": {},
     "output_type": "display_data"
    }
   ],
   "source": [
    "push!(LOAD_PATH, pwd() * \"/my_module\")\n",
    "ENV[\"GKS_ENCODING\"]=\"utf8\""
   ]
  },
  {
   "cell_type": "code",
   "execution_count": 2,
   "metadata": {},
   "outputs": [
    {
     "data": {
      "text/plain": [
       "Plots.GRBackend()"
      ]
     },
     "metadata": {},
     "output_type": "display_data"
    }
   ],
   "source": [
    "using Revise\n",
    "using Plots\n",
    "using linear_prog_prob: LP_Prob, Standard, No_nonNegative, Equality\n",
    "using linear_prog_prob: simplex, two_phase_simplex, convert_dual_problem\n",
    "\n",
    "gr(fontfamily=\"IPAMincho\")"
   ]
  },
  {
   "cell_type": "code",
   "execution_count": 3,
   "metadata": {},
   "outputs": [
    {
     "data": {
      "image/png": "[encoded data removed]",
      "image/svg+xml": [
       "<?xml version=\"1.0\" encoding=\"utf-8\"?>\n",
       "<svg xmlns=\"http://www.w3.org/2000/svg\" xmlns:xlink=\"http://www.w3.org/1999/xlink\" width=\"600\" height=\"400\" viewBox=\"0 0 2400 1600\">\n",
       "<defs>\n",
       "  <clipPath id=\"clip040\">\n",
       "    <rect x=\"0\" y=\"0\" width=\"2400\" height=\"1600\"/>\n",
       "  </clipPath>\n",
       "</defs>\n",
       "<path clip-path=\"url(#clip040)\" d=\"M0 1600 L2400 1600 L2400 8.88178e-14 L0 8.88178e-14  Z\" fill=\"#ffffff\" fill-rule=\"evenodd\" fill-opacity=\"1\"/>\n",
       "<defs>\n",
       "  <clipPath id=\"clip041\">\n",
       "    <rect x=\"480\" y=\"0\" width=\"1681\" height=\"1600\"/>\n",
       "  </clipPath>\n",
       "</defs>\n",
       "<path clip-path=\"url(#clip040)\" d=\"M112.865 1488.25 L2352.76 1488.25 L2352.76 47.2441 L112.865 47.2441  Z\" fill=\"#ffffff\" fill-rule=\"evenodd\" fill-opacity=\"1\"/>\n",
       "<defs>\n",
       "  <clipPath id=\"clip042\">\n",
       "    <rect x=\"112\" y=\"47\" width=\"2241\" height=\"1442\"/>\n",
       "  </clipPath>\n",
       "</defs>\n",
       "<polyline clip-path=\"url(#clip042)\" style=\"stroke:#000000; stroke-linecap:round; stroke-linejoin:round; stroke-width:2; stroke-opacity:0.1; fill:none\" points=\"176.259,1488.25 176.259,47.2441 \"/>\n",
       "<polyline clip-path=\"url(#clip042)\" style=\"stroke:#000000; stroke-linecap:round; stroke-linejoin:round; stroke-width:2; stroke-opacity:0.1; fill:none\" points=\"704.535,1488.25 704.535,47.2441 \"/>\n",
       "<polyline clip-path=\"url(#clip042)\" style=\"stroke:#000000; stroke-linecap:round; stroke-linejoin:round; stroke-width:2; stroke-opacity:0.1; fill:none\" points=\"1232.81,1488.25 1232.81,47.2441 \"/>\n",
       "<polyline clip-path=\"url(#clip042)\" style=\"stroke:#000000; stroke-linecap:round; stroke-linejoin:round; stroke-width:2; stroke-opacity:0.1; fill:none\" points=\"1761.09,1488.25 1761.09,47.2441 \"/>\n",
       "<polyline clip-path=\"url(#clip042)\" style=\"stroke:#000000; stroke-linecap:round; stroke-linejoin:round; stroke-width:2; stroke-opacity:0.1; fill:none\" points=\"2289.36,1488.25 2289.36,47.2441 \"/>\n",
       "<polyline clip-path=\"url(#clip042)\" style=\"stroke:#000000; stroke-linecap:round; stroke-linejoin:round; stroke-width:2; stroke-opacity:0.1; fill:none\" points=\"112.865,1488.25 2352.76,1488.25 \"/>\n",
       "<polyline clip-path=\"url(#clip042)\" style=\"stroke:#000000; stroke-linecap:round; stroke-linejoin:round; stroke-width:2; stroke-opacity:0.1; fill:none\" points=\"112.865,1248.09 2352.76,1248.09 \"/>\n",
       "<polyline clip-path=\"url(#clip042)\" style=\"stroke:#000000; stroke-linecap:round; stroke-linejoin:round; stroke-width:2; stroke-opacity:0.1; fill:none\" points=\"112.865,1007.92 2352.76,1007.92 \"/>\n",
       "<polyline clip-path=\"url(#clip042)\" style=\"stroke:#000000; stroke-linecap:round; stroke-linejoin:round; stroke-width:2; stroke-opacity:0.1; fill:none\" points=\"112.865,767.749 2352.76,767.749 \"/>\n",
       "<polyline clip-path=\"url(#clip042)\" style=\"stroke:#000000; stroke-linecap:round; stroke-linejoin:round; stroke-width:2; stroke-opacity:0.1; fill:none\" points=\"112.865,527.581 2352.76,527.581 \"/>\n",
       "<polyline clip-path=\"url(#clip042)\" style=\"stroke:#000000; stroke-linecap:round; stroke-linejoin:round; stroke-width:2; stroke-opacity:0.1; fill:none\" points=\"112.865,287.412 2352.76,287.412 \"/>\n",
       "<polyline clip-path=\"url(#clip042)\" style=\"stroke:#000000; stroke-linecap:round; stroke-linejoin:round; stroke-width:2; stroke-opacity:0.1; fill:none\" points=\"112.865,47.2441 2352.76,47.2441 \"/>\n",
       "<polyline clip-path=\"url(#clip040)\" style=\"stroke:#000000; stroke-linecap:round; stroke-linejoin:round; stroke-width:4; stroke-opacity:1; fill:none\" points=\"112.865,1488.25 2352.76,1488.25 \"/>\n",
       "<polyline clip-path=\"url(#clip040)\" style=\"stroke:#000000; stroke-linecap:round; stroke-linejoin:round; stroke-width:4; stroke-opacity:1; fill:none\" points=\"176.259,1488.25 176.259,1469.36 \"/>\n",
       "<polyline clip-path=\"url(#clip040)\" style=\"stroke:#000000; stroke-linecap:round; stroke-linejoin:round; stroke-width:4; stroke-opacity:1; fill:none\" points=\"704.535,1488.25 704.535,1469.36 \"/>\n",
       "<polyline clip-path=\"url(#clip040)\" style=\"stroke:#000000; stroke-linecap:round; stroke-linejoin:round; stroke-width:4; stroke-opacity:1; fill:none\" points=\"1232.81,1488.25 1232.81,1469.36 \"/>\n",
       "<polyline clip-path=\"url(#clip040)\" style=\"stroke:#000000; stroke-linecap:round; stroke-linejoin:round; stroke-width:4; stroke-opacity:1; fill:none\" points=\"1761.09,1488.25 1761.09,1469.36 \"/>\n",
       "<polyline clip-path=\"url(#clip040)\" style=\"stroke:#000000; stroke-linecap:round; stroke-linejoin:round; stroke-width:4; stroke-opacity:1; fill:none\" points=\"2289.36,1488.25 2289.36,1469.36 \"/>\n",
       "<g clip-path=\"url(#clip040)\">\n",
       "<text style=\"fill:#000000; fill-opacity:1; font-family:Century Gothic,CenturyGothic,AppleGothic,sans-serif; font-size:47px; text-anchor:middle;\" transform=\"rotate(0, 176.259, 1549.52)\" x=\"176.259\" y=\"1549.52\">0</text>\n",
       "</g>\n",
       "<g clip-path=\"url(#clip040)\">\n",
       "<text style=\"fill:#000000; fill-opacity:1; font-family:Century Gothic,CenturyGothic,AppleGothic,sans-serif; font-size:47px; text-anchor:middle;\" transform=\"rotate(0, 704.535, 1549.52)\" x=\"704.535\" y=\"1549.52\">2</text>\n",
       "</g>\n",
       "<g clip-path=\"url(#clip040)\">\n",
       "<text style=\"fill:#000000; fill-opacity:1; font-family:Century Gothic,CenturyGothic,AppleGothic,sans-serif; font-size:47px; text-anchor:middle;\" transform=\"rotate(0, 1232.81, 1549.52)\" x=\"1232.81\" y=\"1549.52\">4</text>\n",
       "</g>\n",
       "<g clip-path=\"url(#clip040)\">\n",
       "<text style=\"fill:#000000; fill-opacity:1; font-family:Century Gothic,CenturyGothic,AppleGothic,sans-serif; font-size:47px; text-anchor:middle;\" transform=\"rotate(0, 1761.09, 1549.52)\" x=\"1761.09\" y=\"1549.52\">6</text>\n",
       "</g>\n",
       "<g clip-path=\"url(#clip040)\">\n",
       "<text style=\"fill:#000000; fill-opacity:1; font-family:Century Gothic,CenturyGothic,AppleGothic,sans-serif; font-size:47px; text-anchor:middle;\" transform=\"rotate(0, 2289.36, 1549.52)\" x=\"2289.36\" y=\"1549.52\">8</text>\n",
       "</g>\n",
       "<polyline clip-path=\"url(#clip040)\" style=\"stroke:#000000; stroke-linecap:round; stroke-linejoin:round; stroke-width:4; stroke-opacity:1; fill:none\" points=\"112.865,1488.25 112.865,47.2441 \"/>\n",
       "<polyline clip-path=\"url(#clip040)\" style=\"stroke:#000000; stroke-linecap:round; stroke-linejoin:round; stroke-width:4; stroke-opacity:1; fill:none\" points=\"112.865,1488.25 131.763,1488.25 \"/>\n",
       "<polyline clip-path=\"url(#clip040)\" style=\"stroke:#000000; stroke-linecap:round; stroke-linejoin:round; stroke-width:4; stroke-opacity:1; fill:none\" points=\"112.865,1248.09 131.763,1248.09 \"/>\n",
       "<polyline clip-path=\"url(#clip040)\" style=\"stroke:#000000; stroke-linecap:round; stroke-linejoin:round; stroke-width:4; stroke-opacity:1; fill:none\" points=\"112.865,1007.92 131.763,1007.92 \"/>\n",
       "<polyline clip-path=\"url(#clip040)\" style=\"stroke:#000000; stroke-linecap:round; stroke-linejoin:round; stroke-width:4; stroke-opacity:1; fill:none\" points=\"112.865,767.749 131.763,767.749 \"/>\n",
       "<polyline clip-path=\"url(#clip040)\" style=\"stroke:#000000; stroke-linecap:round; stroke-linejoin:round; stroke-width:4; stroke-opacity:1; fill:none\" points=\"112.865,527.581 131.763,527.581 \"/>\n",
       "<polyline clip-path=\"url(#clip040)\" style=\"stroke:#000000; stroke-linecap:round; stroke-linejoin:round; stroke-width:4; stroke-opacity:1; fill:none\" points=\"112.865,287.412 131.763,287.412 \"/>\n",
       "<polyline clip-path=\"url(#clip040)\" style=\"stroke:#000000; stroke-linecap:round; stroke-linejoin:round; stroke-width:4; stroke-opacity:1; fill:none\" points=\"112.865,47.2441 131.763,47.2441 \"/>\n",
       "<g clip-path=\"url(#clip040)\">\n",
       "<text style=\"fill:#000000; fill-opacity:1; font-family:Century Gothic,CenturyGothic,AppleGothic,sans-serif; font-size:47px; text-anchor:middle;\" transform=\"rotate(0, 63.9288, 1505.75)\" x=\"63.9288\" y=\"1505.75\">0</text>\n",
       "</g>\n",
       "<g clip-path=\"url(#clip040)\">\n",
       "<text style=\"fill:#000000; fill-opacity:1; font-family:Century Gothic,CenturyGothic,AppleGothic,sans-serif; font-size:47px; text-anchor:middle;\" transform=\"rotate(0, 63.9288, 1265.59)\" x=\"63.9288\" y=\"1265.59\">1</text>\n",
       "</g>\n",
       "<g clip-path=\"url(#clip040)\">\n",
       "<text style=\"fill:#000000; fill-opacity:1; font-family:Century Gothic,CenturyGothic,AppleGothic,sans-serif; font-size:47px; text-anchor:middle;\" transform=\"rotate(0, 63.9288, 1025.42)\" x=\"63.9288\" y=\"1025.42\">2</text>\n",
       "</g>\n",
       "<g clip-path=\"url(#clip040)\">\n",
       "<text style=\"fill:#000000; fill-opacity:1; font-family:Century Gothic,CenturyGothic,AppleGothic,sans-serif; font-size:47px; text-anchor:middle;\" transform=\"rotate(0, 63.9288, 785.249)\" x=\"63.9288\" y=\"785.249\">3</text>\n",
       "</g>\n",
       "<g clip-path=\"url(#clip040)\">\n",
       "<text style=\"fill:#000000; fill-opacity:1; font-family:Century Gothic,CenturyGothic,AppleGothic,sans-serif; font-size:47px; text-anchor:middle;\" transform=\"rotate(0, 63.9288, 545.081)\" x=\"63.9288\" y=\"545.081\">4</text>\n",
       "</g>\n",
       "<g clip-path=\"url(#clip040)\">\n",
       "<text style=\"fill:#000000; fill-opacity:1; font-family:Century Gothic,CenturyGothic,AppleGothic,sans-serif; font-size:47px; text-anchor:middle;\" transform=\"rotate(0, 63.9288, 304.912)\" x=\"63.9288\" y=\"304.912\">5</text>\n",
       "</g>\n",
       "<g clip-path=\"url(#clip040)\">\n",
       "<text style=\"fill:#000000; fill-opacity:1; font-family:Century Gothic,CenturyGothic,AppleGothic,sans-serif; font-size:47px; text-anchor:middle;\" transform=\"rotate(0, 63.9288, 64.7441)\" x=\"63.9288\" y=\"64.7441\">6</text>\n",
       "</g>\n",
       "<polyline clip-path=\"url(#clip042)\" style=\"stroke:#009af9; stroke-linecap:round; stroke-linejoin:round; stroke-width:4; stroke-opacity:1; fill:none\" points=\"176.259,287.412 440.397,407.496 704.535,527.581 968.673,647.665 1232.81,767.749 1496.95,887.833 1761.09,1007.92 2025.22,1128 2289.36,1248.09 \"/>\n",
       "<polyline clip-path=\"url(#clip042)\" style=\"stroke:#e26f46; stroke-linecap:round; stroke-linejoin:round; stroke-width:4; stroke-opacity:1; fill:none\" points=\"176.259,47.2441 440.397,227.37 704.535,407.496 968.673,587.623 1232.81,767.749 1496.95,947.875 1761.09,1128 2025.22,1308.13 2289.36,1488.25 \"/>\n",
       "<polyline clip-path=\"url(#clip042)\" style=\"stroke:#3da44d; stroke-linecap:round; stroke-linejoin:round; stroke-width:4; stroke-opacity:1; fill:none\" points=\"176.259,-1874.1 440.397,-1393.77 704.535,-913.429 968.673,-433.092 1232.81,47.2441 1496.95,527.581 1761.09,1007.92 2025.22,1488.25 2289.36,1968.59 \"/>\n",
       "<circle clip-path=\"url(#clip042)\" cx=\"176.259\" cy=\"1488.25\" r=\"14.4\" fill=\"#c271d2\" fill-rule=\"evenodd\" fill-opacity=\"1\" stroke=\"#000000\" stroke-opacity=\"1\" stroke-width=\"3.2\"/>\n",
       "<circle clip-path=\"url(#clip042)\" cx=\"176.259\" cy=\"287.412\" r=\"14.4\" fill=\"#c271d2\" fill-rule=\"evenodd\" fill-opacity=\"1\" stroke=\"#000000\" stroke-opacity=\"1\" stroke-width=\"3.2\"/>\n",
       "<circle clip-path=\"url(#clip042)\" cx=\"1232.81\" cy=\"767.749\" r=\"14.4\" fill=\"#c271d2\" fill-rule=\"evenodd\" fill-opacity=\"1\" stroke=\"#000000\" stroke-opacity=\"1\" stroke-width=\"3.2\"/>\n",
       "<circle clip-path=\"url(#clip042)\" cx=\"1866.74\" cy=\"1200.05\" r=\"14.4\" fill=\"#c271d2\" fill-rule=\"evenodd\" fill-opacity=\"1\" stroke=\"#000000\" stroke-opacity=\"1\" stroke-width=\"3.2\"/>\n",
       "<circle clip-path=\"url(#clip042)\" cx=\"2025.22\" cy=\"1488.25\" r=\"14.4\" fill=\"#c271d2\" fill-rule=\"evenodd\" fill-opacity=\"1\" stroke=\"#000000\" stroke-opacity=\"1\" stroke-width=\"3.2\"/>\n",
       "<path clip-path=\"url(#clip040)\" d=\"M1917.83 340.934 L2278.09 340.934 L2278.09 95.2777 L1917.83 95.2777  Z\" fill=\"#ffffff\" fill-rule=\"evenodd\" fill-opacity=\"1\"/>\n",
       "<polyline clip-path=\"url(#clip040)\" style=\"stroke:#000000; stroke-linecap:round; stroke-linejoin:round; stroke-width:4; stroke-opacity:1; fill:none\" points=\"1917.83,340.934 2278.09,340.934 2278.09,95.2777 1917.83,95.2777 1917.83,340.934 \"/>\n",
       "<polyline clip-path=\"url(#clip040)\" style=\"stroke:#009af9; stroke-linecap:round; stroke-linejoin:round; stroke-width:4; stroke-opacity:1; fill:none\" points=\"1942.71,144.409 2092.04,144.409 \"/>\n",
       "<g clip-path=\"url(#clip040)\">\n",
       "<text style=\"fill:#000000; fill-opacity:1; font-family:Century Gothic,CenturyGothic,AppleGothic,sans-serif; font-size:47px; text-anchor:start;\" transform=\"rotate(0, 2116.93, 161.909)\" x=\"2116.93\" y=\"161.909\">制約条件1</text>\n",
       "</g>\n",
       "<polyline clip-path=\"url(#clip040)\" style=\"stroke:#e26f46; stroke-linecap:round; stroke-linejoin:round; stroke-width:4; stroke-opacity:1; fill:none\" points=\"1942.71,193.54 2092.04,193.54 \"/>\n",
       "<g clip-path=\"url(#clip040)\">\n",
       "<text style=\"fill:#000000; fill-opacity:1; font-family:Century Gothic,CenturyGothic,AppleGothic,sans-serif; font-size:47px; text-anchor:start;\" transform=\"rotate(0, 2116.93, 211.04)\" x=\"2116.93\" y=\"211.04\">制約条件2</text>\n",
       "</g>\n",
       "<polyline clip-path=\"url(#clip040)\" style=\"stroke:#3da44d; stroke-linecap:round; stroke-linejoin:round; stroke-width:4; stroke-opacity:1; fill:none\" points=\"1942.71,242.671 2092.04,242.671 \"/>\n",
       "<g clip-path=\"url(#clip040)\">\n",
       "<text style=\"fill:#000000; fill-opacity:1; font-family:Century Gothic,CenturyGothic,AppleGothic,sans-serif; font-size:47px; text-anchor:start;\" transform=\"rotate(0, 2116.93, 260.171)\" x=\"2116.93\" y=\"260.171\">制約条件3</text>\n",
       "</g>\n",
       "<circle clip-path=\"url(#clip040)\" cx=\"2017.38\" cy=\"291.803\" r=\"20.48\" fill=\"#c271d2\" fill-rule=\"evenodd\" fill-opacity=\"1\" stroke=\"#000000\" stroke-opacity=\"1\" stroke-width=\"4.55111\"/>\n",
       "<g clip-path=\"url(#clip040)\">\n",
       "<text style=\"fill:#000000; fill-opacity:1; font-family:Century Gothic,CenturyGothic,AppleGothic,sans-serif; font-size:47px; text-anchor:start;\" transform=\"rotate(0, 2116.93, 309.303)\" x=\"2116.93\" y=\"309.303\">解の候補</text>\n",
       "</g>\n",
       "</svg>\n"
      ],
      "text/html": [
       "<?xml version=\"1.0\" encoding=\"utf-8\"?>\n",
       "<svg xmlns=\"http://www.w3.org/2000/svg\" xmlns:xlink=\"http://www.w3.org/1999/xlink\" width=\"600\" height=\"400\" viewBox=\"0 0 2400 1600\">\n",
       "<defs>\n",
       "  <clipPath id=\"clip090\">\n",
       "    <rect x=\"0\" y=\"0\" width=\"2400\" height=\"1600\"/>\n",
       "  </clipPath>\n",
       "</defs>\n",
       "<path clip-path=\"url(#clip090)\" d=\"M0 1600 L2400 1600 L2400 8.88178e-14 L0 8.88178e-14  Z\" fill=\"#ffffff\" fill-rule=\"evenodd\" fill-opacity=\"1\"/>\n",
       "<defs>\n",
       "  <clipPath id=\"clip091\">\n",
       "    <rect x=\"480\" y=\"0\" width=\"1681\" height=\"1600\"/>\n",
       "  </clipPath>\n",
       "</defs>\n",
       "<path clip-path=\"url(#clip090)\" d=\"M112.865 1488.25 L2352.76 1488.25 L2352.76 47.2441 L112.865 47.2441  Z\" fill=\"#ffffff\" fill-rule=\"evenodd\" fill-opacity=\"1\"/>\n",
       "<defs>\n",
       "  <clipPath id=\"clip092\">\n",
       "    <rect x=\"112\" y=\"47\" width=\"2241\" height=\"1442\"/>\n",
       "  </clipPath>\n",
       "</defs>\n",
       "<polyline clip-path=\"url(#clip092)\" style=\"stroke:#000000; stroke-linecap:round; stroke-linejoin:round; stroke-width:2; stroke-opacity:0.1; fill:none\" points=\"176.259,1488.25 176.259,47.2441 \"/>\n",
       "<polyline clip-path=\"url(#clip092)\" style=\"stroke:#000000; stroke-linecap:round; stroke-linejoin:round; stroke-width:2; stroke-opacity:0.1; fill:none\" points=\"704.535,1488.25 704.535,47.2441 \"/>\n",
       "<polyline clip-path=\"url(#clip092)\" style=\"stroke:#000000; stroke-linecap:round; stroke-linejoin:round; stroke-width:2; stroke-opacity:0.1; fill:none\" points=\"1232.81,1488.25 1232.81,47.2441 \"/>\n",
       "<polyline clip-path=\"url(#clip092)\" style=\"stroke:#000000; stroke-linecap:round; stroke-linejoin:round; stroke-width:2; stroke-opacity:0.1; fill:none\" points=\"1761.09,1488.25 1761.09,47.2441 \"/>\n",
       "<polyline clip-path=\"url(#clip092)\" style=\"stroke:#000000; stroke-linecap:round; stroke-linejoin:round; stroke-width:2; stroke-opacity:0.1; fill:none\" points=\"2289.36,1488.25 2289.36,47.2441 \"/>\n",
       "<polyline clip-path=\"url(#clip092)\" style=\"stroke:#000000; stroke-linecap:round; stroke-linejoin:round; stroke-width:2; stroke-opacity:0.1; fill:none\" points=\"112.865,1488.25 2352.76,1488.25 \"/>\n",
       "<polyline clip-path=\"url(#clip092)\" style=\"stroke:#000000; stroke-linecap:round; stroke-linejoin:round; stroke-width:2; stroke-opacity:0.1; fill:none\" points=\"112.865,1248.09 2352.76,1248.09 \"/>\n",
       "<polyline clip-path=\"url(#clip092)\" style=\"stroke:#000000; stroke-linecap:round; stroke-linejoin:round; stroke-width:2; stroke-opacity:0.1; fill:none\" points=\"112.865,1007.92 2352.76,1007.92 \"/>\n",
       "<polyline clip-path=\"url(#clip092)\" style=\"stroke:#000000; stroke-linecap:round; stroke-linejoin:round; stroke-width:2; stroke-opacity:0.1; fill:none\" points=\"112.865,767.749 2352.76,767.749 \"/>\n",
       "<polyline clip-path=\"url(#clip092)\" style=\"stroke:#000000; stroke-linecap:round; stroke-linejoin:round; stroke-width:2; stroke-opacity:0.1; fill:none\" points=\"112.865,527.581 2352.76,527.581 \"/>\n",
       "<polyline clip-path=\"url(#clip092)\" style=\"stroke:#000000; stroke-linecap:round; stroke-linejoin:round; stroke-width:2; stroke-opacity:0.1; fill:none\" points=\"112.865,287.412 2352.76,287.412 \"/>\n",
       "<polyline clip-path=\"url(#clip092)\" style=\"stroke:#000000; stroke-linecap:round; stroke-linejoin:round; stroke-width:2; stroke-opacity:0.1; fill:none\" points=\"112.865,47.2441 2352.76,47.2441 \"/>\n",
       "<polyline clip-path=\"url(#clip090)\" style=\"stroke:#000000; stroke-linecap:round; stroke-linejoin:round; stroke-width:4; stroke-opacity:1; fill:none\" points=\"112.865,1488.25 2352.76,1488.25 \"/>\n",
       "<polyline clip-path=\"url(#clip090)\" style=\"stroke:#000000; stroke-linecap:round; stroke-linejoin:round; stroke-width:4; stroke-opacity:1; fill:none\" points=\"176.259,1488.25 176.259,1469.36 \"/>\n",
       "<polyline clip-path=\"url(#clip090)\" style=\"stroke:#000000; stroke-linecap:round; stroke-linejoin:round; stroke-width:4; stroke-opacity:1; fill:none\" points=\"704.535,1488.25 704.535,1469.36 \"/>\n",
       "<polyline clip-path=\"url(#clip090)\" style=\"stroke:#000000; stroke-linecap:round; stroke-linejoin:round; stroke-width:4; stroke-opacity:1; fill:none\" points=\"1232.81,1488.25 1232.81,1469.36 \"/>\n",
       "<polyline clip-path=\"url(#clip090)\" style=\"stroke:#000000; stroke-linecap:round; stroke-linejoin:round; stroke-width:4; stroke-opacity:1; fill:none\" points=\"1761.09,1488.25 1761.09,1469.36 \"/>\n",
       "<polyline clip-path=\"url(#clip090)\" style=\"stroke:#000000; stroke-linecap:round; stroke-linejoin:round; stroke-width:4; stroke-opacity:1; fill:none\" points=\"2289.36,1488.25 2289.36,1469.36 \"/>\n",
       "<g clip-path=\"url(#clip090)\">\n",
       "<text style=\"fill:#000000; fill-opacity:1; font-family:Century Gothic,CenturyGothic,AppleGothic,sans-serif; font-size:47px; text-anchor:middle;\" transform=\"rotate(0, 176.259, 1549.52)\" x=\"176.259\" y=\"1549.52\">0</text>\n",
       "</g>\n",
       "<g clip-path=\"url(#clip090)\">\n",
       "<text style=\"fill:#000000; fill-opacity:1; font-family:Century Gothic,CenturyGothic,AppleGothic,sans-serif; font-size:47px; text-anchor:middle;\" transform=\"rotate(0, 704.535, 1549.52)\" x=\"704.535\" y=\"1549.52\">2</text>\n",
       "</g>\n",
       "<g clip-path=\"url(#clip090)\">\n",
       "<text style=\"fill:#000000; fill-opacity:1; font-family:Century Gothic,CenturyGothic,AppleGothic,sans-serif; font-size:47px; text-anchor:middle;\" transform=\"rotate(0, 1232.81, 1549.52)\" x=\"1232.81\" y=\"1549.52\">4</text>\n",
       "</g>\n",
       "<g clip-path=\"url(#clip090)\">\n",
       "<text style=\"fill:#000000; fill-opacity:1; font-family:Century Gothic,CenturyGothic,AppleGothic,sans-serif; font-size:47px; text-anchor:middle;\" transform=\"rotate(0, 1761.09, 1549.52)\" x=\"1761.09\" y=\"1549.52\">6</text>\n",
       "</g>\n",
       "<g clip-path=\"url(#clip090)\">\n",
       "<text style=\"fill:#000000; fill-opacity:1; font-family:Century Gothic,CenturyGothic,AppleGothic,sans-serif; font-size:47px; text-anchor:middle;\" transform=\"rotate(0, 2289.36, 1549.52)\" x=\"2289.36\" y=\"1549.52\">8</text>\n",
       "</g>\n",
       "<polyline clip-path=\"url(#clip090)\" style=\"stroke:#000000; stroke-linecap:round; stroke-linejoin:round; stroke-width:4; stroke-opacity:1; fill:none\" points=\"112.865,1488.25 112.865,47.2441 \"/>\n",
       "<polyline clip-path=\"url(#clip090)\" style=\"stroke:#000000; stroke-linecap:round; stroke-linejoin:round; stroke-width:4; stroke-opacity:1; fill:none\" points=\"112.865,1488.25 131.763,1488.25 \"/>\n",
       "<polyline clip-path=\"url(#clip090)\" style=\"stroke:#000000; stroke-linecap:round; stroke-linejoin:round; stroke-width:4; stroke-opacity:1; fill:none\" points=\"112.865,1248.09 131.763,1248.09 \"/>\n",
       "<polyline clip-path=\"url(#clip090)\" style=\"stroke:#000000; stroke-linecap:round; stroke-linejoin:round; stroke-width:4; stroke-opacity:1; fill:none\" points=\"112.865,1007.92 131.763,1007.92 \"/>\n",
       "<polyline clip-path=\"url(#clip090)\" style=\"stroke:#000000; stroke-linecap:round; stroke-linejoin:round; stroke-width:4; stroke-opacity:1; fill:none\" points=\"112.865,767.749 131.763,767.749 \"/>\n",
       "<polyline clip-path=\"url(#clip090)\" style=\"stroke:#000000; stroke-linecap:round; stroke-linejoin:round; stroke-width:4; stroke-opacity:1; fill:none\" points=\"112.865,527.581 131.763,527.581 \"/>\n",
       "<polyline clip-path=\"url(#clip090)\" style=\"stroke:#000000; stroke-linecap:round; stroke-linejoin:round; stroke-width:4; stroke-opacity:1; fill:none\" points=\"112.865,287.412 131.763,287.412 \"/>\n",
       "<polyline clip-path=\"url(#clip090)\" style=\"stroke:#000000; stroke-linecap:round; stroke-linejoin:round; stroke-width:4; stroke-opacity:1; fill:none\" points=\"112.865,47.2441 131.763,47.2441 \"/>\n",
       "<g clip-path=\"url(#clip090)\">\n",
       "<text style=\"fill:#000000; fill-opacity:1; font-family:Century Gothic,CenturyGothic,AppleGothic,sans-serif; font-size:47px; text-anchor:middle;\" transform=\"rotate(0, 63.9288, 1505.75)\" x=\"63.9288\" y=\"1505.75\">0</text>\n",
       "</g>\n",
       "<g clip-path=\"url(#clip090)\">\n",
       "<text style=\"fill:#000000; fill-opacity:1; font-family:Century Gothic,CenturyGothic,AppleGothic,sans-serif; font-size:47px; text-anchor:middle;\" transform=\"rotate(0, 63.9288, 1265.59)\" x=\"63.9288\" y=\"1265.59\">1</text>\n",
       "</g>\n",
       "<g clip-path=\"url(#clip090)\">\n",
       "<text style=\"fill:#000000; fill-opacity:1; font-family:Century Gothic,CenturyGothic,AppleGothic,sans-serif; font-size:47px; text-anchor:middle;\" transform=\"rotate(0, 63.9288, 1025.42)\" x=\"63.9288\" y=\"1025.42\">2</text>\n",
       "</g>\n",
       "<g clip-path=\"url(#clip090)\">\n",
       "<text style=\"fill:#000000; fill-opacity:1; font-family:Century Gothic,CenturyGothic,AppleGothic,sans-serif; font-size:47px; text-anchor:middle;\" transform=\"rotate(0, 63.9288, 785.249)\" x=\"63.9288\" y=\"785.249\">3</text>\n",
       "</g>\n",
       "<g clip-path=\"url(#clip090)\">\n",
       "<text style=\"fill:#000000; fill-opacity:1; font-family:Century Gothic,CenturyGothic,AppleGothic,sans-serif; font-size:47px; text-anchor:middle;\" transform=\"rotate(0, 63.9288, 545.081)\" x=\"63.9288\" y=\"545.081\">4</text>\n",
       "</g>\n",
       "<g clip-path=\"url(#clip090)\">\n",
       "<text style=\"fill:#000000; fill-opacity:1; font-family:Century Gothic,CenturyGothic,AppleGothic,sans-serif; font-size:47px; text-anchor:middle;\" transform=\"rotate(0, 63.9288, 304.912)\" x=\"63.9288\" y=\"304.912\">5</text>\n",
       "</g>\n",
       "<g clip-path=\"url(#clip090)\">\n",
       "<text style=\"fill:#000000; fill-opacity:1; font-family:Century Gothic,CenturyGothic,AppleGothic,sans-serif; font-size:47px; text-anchor:middle;\" transform=\"rotate(0, 63.9288, 64.7441)\" x=\"63.9288\" y=\"64.7441\">6</text>\n",
       "</g>\n",
       "<polyline clip-path=\"url(#clip092)\" style=\"stroke:#009af9; stroke-linecap:round; stroke-linejoin:round; stroke-width:4; stroke-opacity:1; fill:none\" points=\"176.259,287.412 440.397,407.496 704.535,527.581 968.673,647.665 1232.81,767.749 1496.95,887.833 1761.09,1007.92 2025.22,1128 2289.36,1248.09 \"/>\n",
       "<polyline clip-path=\"url(#clip092)\" style=\"stroke:#e26f46; stroke-linecap:round; stroke-linejoin:round; stroke-width:4; stroke-opacity:1; fill:none\" points=\"176.259,47.2441 440.397,227.37 704.535,407.496 968.673,587.623 1232.81,767.749 1496.95,947.875 1761.09,1128 2025.22,1308.13 2289.36,1488.25 \"/>\n",
       "<polyline clip-path=\"url(#clip092)\" style=\"stroke:#3da44d; stroke-linecap:round; stroke-linejoin:round; stroke-width:4; stroke-opacity:1; fill:none\" points=\"176.259,-1874.1 440.397,-1393.77 704.535,-913.429 968.673,-433.092 1232.81,47.2441 1496.95,527.581 1761.09,1007.92 2025.22,1488.25 2289.36,1968.59 \"/>\n",
       "<circle clip-path=\"url(#clip092)\" cx=\"176.259\" cy=\"1488.25\" r=\"14.4\" fill=\"#c271d2\" fill-rule=\"evenodd\" fill-opacity=\"1\" stroke=\"#000000\" stroke-opacity=\"1\" stroke-width=\"3.2\"/>\n",
       "<circle clip-path=\"url(#clip092)\" cx=\"176.259\" cy=\"287.412\" r=\"14.4\" fill=\"#c271d2\" fill-rule=\"evenodd\" fill-opacity=\"1\" stroke=\"#000000\" stroke-opacity=\"1\" stroke-width=\"3.2\"/>\n",
       "<circle clip-path=\"url(#clip092)\" cx=\"1232.81\" cy=\"767.749\" r=\"14.4\" fill=\"#c271d2\" fill-rule=\"evenodd\" fill-opacity=\"1\" stroke=\"#000000\" stroke-opacity=\"1\" stroke-width=\"3.2\"/>\n",
       "<circle clip-path=\"url(#clip092)\" cx=\"1866.74\" cy=\"1200.05\" r=\"14.4\" fill=\"#c271d2\" fill-rule=\"evenodd\" fill-opacity=\"1\" stroke=\"#000000\" stroke-opacity=\"1\" stroke-width=\"3.2\"/>\n",
       "<circle clip-path=\"url(#clip092)\" cx=\"2025.22\" cy=\"1488.25\" r=\"14.4\" fill=\"#c271d2\" fill-rule=\"evenodd\" fill-opacity=\"1\" stroke=\"#000000\" stroke-opacity=\"1\" stroke-width=\"3.2\"/>\n",
       "<path clip-path=\"url(#clip090)\" d=\"M1917.83 340.934 L2278.09 340.934 L2278.09 95.2777 L1917.83 95.2777  Z\" fill=\"#ffffff\" fill-rule=\"evenodd\" fill-opacity=\"1\"/>\n",
       "<polyline clip-path=\"url(#clip090)\" style=\"stroke:#000000; stroke-linecap:round; stroke-linejoin:round; stroke-width:4; stroke-opacity:1; fill:none\" points=\"1917.83,340.934 2278.09,340.934 2278.09,95.2777 1917.83,95.2777 1917.83,340.934 \"/>\n",
       "<polyline clip-path=\"url(#clip090)\" style=\"stroke:#009af9; stroke-linecap:round; stroke-linejoin:round; stroke-width:4; stroke-opacity:1; fill:none\" points=\"1942.71,144.409 2092.04,144.409 \"/>\n",
       "<g clip-path=\"url(#clip090)\">\n",
       "<text style=\"fill:#000000; fill-opacity:1; font-family:Century Gothic,CenturyGothic,AppleGothic,sans-serif; font-size:47px; text-anchor:start;\" transform=\"rotate(0, 2116.93, 161.909)\" x=\"2116.93\" y=\"161.909\">制約条件1</text>\n",
       "</g>\n",
       "<polyline clip-path=\"url(#clip090)\" style=\"stroke:#e26f46; stroke-linecap:round; stroke-linejoin:round; stroke-width:4; stroke-opacity:1; fill:none\" points=\"1942.71,193.54 2092.04,193.54 \"/>\n",
       "<g clip-path=\"url(#clip090)\">\n",
       "<text style=\"fill:#000000; fill-opacity:1; font-family:Century Gothic,CenturyGothic,AppleGothic,sans-serif; font-size:47px; text-anchor:start;\" transform=\"rotate(0, 2116.93, 211.04)\" x=\"2116.93\" y=\"211.04\">制約条件2</text>\n",
       "</g>\n",
       "<polyline clip-path=\"url(#clip090)\" style=\"stroke:#3da44d; stroke-linecap:round; stroke-linejoin:round; stroke-width:4; stroke-opacity:1; fill:none\" points=\"1942.71,242.671 2092.04,242.671 \"/>\n",
       "<g clip-path=\"url(#clip090)\">\n",
       "<text style=\"fill:#000000; fill-opacity:1; font-family:Century Gothic,CenturyGothic,AppleGothic,sans-serif; font-size:47px; text-anchor:start;\" transform=\"rotate(0, 2116.93, 260.171)\" x=\"2116.93\" y=\"260.171\">制約条件3</text>\n",
       "</g>\n",
       "<circle clip-path=\"url(#clip090)\" cx=\"2017.38\" cy=\"291.803\" r=\"20.48\" fill=\"#c271d2\" fill-rule=\"evenodd\" fill-opacity=\"1\" stroke=\"#000000\" stroke-opacity=\"1\" stroke-width=\"4.55111\"/>\n",
       "<g clip-path=\"url(#clip090)\">\n",
       "<text style=\"fill:#000000; fill-opacity:1; font-family:Century Gothic,CenturyGothic,AppleGothic,sans-serif; font-size:47px; text-anchor:start;\" transform=\"rotate(0, 2116.93, 309.303)\" x=\"2116.93\" y=\"309.303\">解の候補</text>\n",
       "</g>\n",
       "</svg>\n"
      ]
     },
     "metadata": {},
     "output_type": "display_data"
    },
    {
     "name": "stderr",
     "output_type": "stream",
     "text": [
      "GKS: could not find font IPAMincho.ttf\n",
      "GKS: glyph missing from current font: 21046\n",
      "GKS: glyph missing from current font: 32004\n",
      "GKS: glyph missing from current font: 26465\n",
      "GKS: glyph missing from current font: 20214\n",
      "GKS: glyph missing from current font: 21046\n",
      "GKS: glyph missing from current font: 32004\n",
      "GKS: glyph missing from current font: 26465\n",
      "GKS: glyph missing from current font: 20214\n",
      "GKS: glyph missing from current font: 21046\n",
      "GKS: glyph missing from current font: 32004\n",
      "GKS: glyph missing from current font: 26465\n",
      "GKS: glyph missing from current font: 20214\n",
      "GKS: glyph missing from current font: 21046\n",
      "GKS: glyph missing from current font: 32004\n",
      "GKS: glyph missing from current font: 26465\n",
      "GKS: glyph missing from current font: 20214\n",
      "GKS: glyph missing from current font: 21046\n",
      "GKS: glyph missing from current font: 32004\n",
      "GKS: glyph missing from current font: 26465\n",
      "GKS: glyph missing from current font: 20214\n",
      "GKS: glyph missing from current font: 21046\n",
      "GKS: glyph missing from current font: 32004\n",
      "GKS: glyph missing from current font: 26465\n",
      "GKS: glyph missing from current font: 20214\n",
      "GKS: glyph missing from current font: 35299\n",
      "GKS: glyph missing from current font: 12398\n",
      "GKS: glyph missing from current font: 20505\n",
      "GKS: glyph missing from current font: 35036\n",
      "GKS: invalid bitmap size\n"
     ]
    }
   ],
   "source": [
    "x_data = 0:1:8\n",
    "plt = plot()\n",
    "plot!(plt, x_data, 5  .- x_data ./ 2,            label=\"制約条件1\", ylim=(0,6))\n",
    "plot!(plt, x_data, 6  .- x_data .* (3 / 4),      label=\"制約条件2\", ylim=(0,6))\n",
    "plot!(plt, x_data, 14 .- x_data .* 2,            label=\"制約条件3\", ylim=(0,6))\n",
    "plot!(plt, [0, 0, 4, 6.4, 7], [0, 5, 3, 1.2, 0], label=\"解の候補\",  st=:scatter)"
   ]
  },
  {
   "cell_type": "code",
   "execution_count": 4,
   "metadata": {},
   "outputs": [
    {
     "name": "stdout",
     "output_type": "stream",
     "text": [
      "収束しました\n",
      "結果：2回の反復試行を行いました\n"
     ]
    },
    {
     "data": {
      "text/plain": [
       "([4.0, 3.0, 0.0, 0.0, 3.0], 44.0)"
      ]
     },
     "metadata": {},
     "output_type": "display_data"
    }
   ],
   "source": [
    "object       = [5 8]\n",
    "conditions_A = [1 2; 3 4; 2 1]\n",
    "conditions_b = [10, 24, 14]\n",
    "\n",
    "simplex(object, conditions_A, conditions_b)"
   ]
  },
  {
   "cell_type": "code",
   "execution_count": 5,
   "metadata": {},
   "outputs": [
    {
     "name": "stdout",
     "output_type": "stream",
     "text": [
      "収束しました\n",
      "結果：2回の反復試行を行いました\n"
     ]
    },
    {
     "data": {
      "text/plain": [
       "([2.9999999999999996, 3.0, 0.0, 0.0, 1.0000000000000018], 9.0)"
      ]
     },
     "metadata": {},
     "output_type": "display_data"
    }
   ],
   "source": [
    "object       = [1 2]\n",
    "conditions_A = [1 1; 1 3; 2 1]\n",
    "conditions_b = [6, 12, 10]\n",
    "\n",
    "simplex(object, conditions_A, conditions_b)"
   ]
  },
  {
   "cell_type": "code",
   "execution_count": 6,
   "metadata": {},
   "outputs": [
    {
     "name": "stdout",
     "output_type": "stream",
     "text": [
      "収束に失敗しました\n",
      "設定された問題は非有界です\n",
      "結果：1回の反復試行を行いました\n"
     ]
    },
    {
     "data": {
      "text/plain": [
       "([4.0, 0.0, 0.0, 6.0], 8.0)"
      ]
     },
     "metadata": {},
     "output_type": "display_data"
    }
   ],
   "source": [
    "object       = [2 1]\n",
    "conditions_A = [1 -2; -1 1]\n",
    "conditions_b = [4, 2]\n",
    "\n",
    "simplex(object, conditions_A, conditions_b)"
   ]
  },
  {
   "cell_type": "code",
   "execution_count": 7,
   "metadata": {},
   "outputs": [
    {
     "name": "stdout",
     "output_type": "stream",
     "text": [
      "収束しました\n",
      "結果：2回の反復試行を行いました\n"
     ]
    },
    {
     "data": {
      "text/plain": [
       "([3.0, 0.0, 0.0, 0.0], 9.0)"
      ]
     },
     "metadata": {},
     "output_type": "display_data"
    }
   ],
   "source": [
    "object       = [3 2]\n",
    "conditions_A = [2 1; 1 1]\n",
    "conditions_b = [6, 3]\n",
    "\n",
    "simplex(object, conditions_A, conditions_b)"
   ]
  },
  {
   "cell_type": "code",
   "execution_count": 8,
   "metadata": {},
   "outputs": [
    {
     "name": "stdout",
     "output_type": "stream",
     "text": [
      "理論上、32767回の反復試行を必要とします\n",
      "収束しました\n",
      "結果：32767回の反復試行を行いました\n"
     ]
    },
    {
     "data": {
      "text/plain": [
       "30-element Vector{Float64}:\n",
       " 0.0\n",
       " 0.0\n",
       " 0.0\n",
       " 0.0\n",
       " 0.0\n",
       " 0.0\n",
       " 0.0\n",
       " 0.0\n",
       " 0.0\n",
       " 0.0\n",
       " ⋮\n",
       " 1.0e12\n",
       " 1.0e14\n",
       " 1.0e16\n",
       " 1.0e18\n",
       " 1.0e20\n",
       " 1.0e22\n",
       " 1.0e24\n",
       " 1.0e26\n",
       " 0.0"
      ]
     },
     "metadata": {},
     "output_type": "display_data"
    },
    {
     "data": {
      "text/plain": [
       "1.0e+28"
      ]
     },
     "metadata": {},
     "output_type": "display_data"
    }
   ],
   "source": [
    "num          = 15\n",
    "object       = [BigInt(10)^idx  for idx in (num-1):-1:0]'\n",
    "conditions_A = [(if idx2 < idx1 2*BigInt(10)^(idx1 - idx2) elseif idx2 == idx1 1 else 0 end) for idx1 in 1:num, idx2 in 1:num]\n",
    "conditions_b = [BigInt(100)^idx for idx in 0:(num-1)]\n",
    "\n",
    "\n",
    "object       = BigFloat.(object)\n",
    "conditions_A = BigFloat.(conditions_A)\n",
    "conditions_b = BigFloat.(conditions_b)\n",
    "\n",
    "println(\"理論上、\", BigInt(2)^num - 1, \"回の反復試行を必要とします\")\n",
    "x, z = simplex(object, conditions_A, conditions_b)\n",
    "\n",
    "display(x)\n",
    "display(z)"
   ]
  },
  {
   "cell_type": "code",
   "execution_count": 9,
   "metadata": {},
   "outputs": [
    {
     "name": "stdout",
     "output_type": "stream",
     "text": [
      "収束に失敗しました\n",
      "実行可能解を得られませんでした\n",
      "基底ベクトル：[5, 4, 3] = [-6.0, 12.0, 6.0]\n",
      "結果：0回の反復試行を行いました\n"
     ]
    },
    {
     "data": {
      "text/plain": [
       "([0.0, 0.0, 6.0, 12.0, -6.0], 0.0)"
      ]
     },
     "metadata": {},
     "output_type": "display_data"
    }
   ],
   "source": [
    "object       = [1 2]\n",
    "conditions_A = [1 1; 1 3; -3 -2]\n",
    "conditions_b = [6, 12, -6]\n",
    "\n",
    "simplex(object, conditions_A, conditions_b)"
   ]
  },
  {
   "cell_type": "code",
   "execution_count": 10,
   "metadata": {},
   "outputs": [
    {
     "data": {
      "image/png": "[encoded data removed]",
      "image/svg+xml": [
       "<?xml version=\"1.0\" encoding=\"utf-8\"?>\n",
       "<svg xmlns=\"http://www.w3.org/2000/svg\" xmlns:xlink=\"http://www.w3.org/1999/xlink\" width=\"600\" height=\"400\" viewBox=\"0 0 2400 1600\">\n",
       "<defs>\n",
       "  <clipPath id=\"clip130\">\n",
       "    <rect x=\"0\" y=\"0\" width=\"2400\" height=\"1600\"/>\n",
       "  </clipPath>\n",
       "</defs>\n",
       "<path clip-path=\"url(#clip130)\" d=\"M0 1600 L2400 1600 L2400 8.88178e-14 L0 8.88178e-14  Z\" fill=\"#ffffff\" fill-rule=\"evenodd\" fill-opacity=\"1\"/>\n",
       "<defs>\n",
       "  <clipPath id=\"clip131\">\n",
       "    <rect x=\"480\" y=\"0\" width=\"1681\" height=\"1600\"/>\n",
       "  </clipPath>\n",
       "</defs>\n",
       "<path clip-path=\"url(#clip130)\" d=\"M112.865 1488.25 L2352.76 1488.25 L2352.76 47.2441 L112.865 47.2441  Z\" fill=\"#ffffff\" fill-rule=\"evenodd\" fill-opacity=\"1\"/>\n",
       "<defs>\n",
       "  <clipPath id=\"clip132\">\n",
       "    <rect x=\"112\" y=\"47\" width=\"2241\" height=\"1442\"/>\n",
       "  </clipPath>\n",
       "</defs>\n",
       "<polyline clip-path=\"url(#clip132)\" style=\"stroke:#000000; stroke-linecap:round; stroke-linejoin:round; stroke-width:2; stroke-opacity:0.1; fill:none\" points=\"112.865,1488.25 112.865,47.2441 \"/>\n",
       "<polyline clip-path=\"url(#clip132)\" style=\"stroke:#000000; stroke-linecap:round; stroke-linejoin:round; stroke-width:2; stroke-opacity:0.1; fill:none\" points=\"432.85,1488.25 432.85,47.2441 \"/>\n",
       "<polyline clip-path=\"url(#clip132)\" style=\"stroke:#000000; stroke-linecap:round; stroke-linejoin:round; stroke-width:2; stroke-opacity:0.1; fill:none\" points=\"752.834,1488.25 752.834,47.2441 \"/>\n",
       "<polyline clip-path=\"url(#clip132)\" style=\"stroke:#000000; stroke-linecap:round; stroke-linejoin:round; stroke-width:2; stroke-opacity:0.1; fill:none\" points=\"1072.82,1488.25 1072.82,47.2441 \"/>\n",
       "<polyline clip-path=\"url(#clip132)\" style=\"stroke:#000000; stroke-linecap:round; stroke-linejoin:round; stroke-width:2; stroke-opacity:0.1; fill:none\" points=\"1392.8,1488.25 1392.8,47.2441 \"/>\n",
       "<polyline clip-path=\"url(#clip132)\" style=\"stroke:#000000; stroke-linecap:round; stroke-linejoin:round; stroke-width:2; stroke-opacity:0.1; fill:none\" points=\"1712.79,1488.25 1712.79,47.2441 \"/>\n",
       "<polyline clip-path=\"url(#clip132)\" style=\"stroke:#000000; stroke-linecap:round; stroke-linejoin:round; stroke-width:2; stroke-opacity:0.1; fill:none\" points=\"2032.77,1488.25 2032.77,47.2441 \"/>\n",
       "<polyline clip-path=\"url(#clip132)\" style=\"stroke:#000000; stroke-linecap:round; stroke-linejoin:round; stroke-width:2; stroke-opacity:0.1; fill:none\" points=\"2352.76,1488.25 2352.76,47.2441 \"/>\n",
       "<polyline clip-path=\"url(#clip132)\" style=\"stroke:#000000; stroke-linecap:round; stroke-linejoin:round; stroke-width:2; stroke-opacity:0.1; fill:none\" points=\"112.865,1488.25 2352.76,1488.25 \"/>\n",
       "<polyline clip-path=\"url(#clip132)\" style=\"stroke:#000000; stroke-linecap:round; stroke-linejoin:round; stroke-width:2; stroke-opacity:0.1; fill:none\" points=\"112.865,1248.09 2352.76,1248.09 \"/>\n",
       "<polyline clip-path=\"url(#clip132)\" style=\"stroke:#000000; stroke-linecap:round; stroke-linejoin:round; stroke-width:2; stroke-opacity:0.1; fill:none\" points=\"112.865,1007.92 2352.76,1007.92 \"/>\n",
       "<polyline clip-path=\"url(#clip132)\" style=\"stroke:#000000; stroke-linecap:round; stroke-linejoin:round; stroke-width:2; stroke-opacity:0.1; fill:none\" points=\"112.865,767.749 2352.76,767.749 \"/>\n",
       "<polyline clip-path=\"url(#clip132)\" style=\"stroke:#000000; stroke-linecap:round; stroke-linejoin:round; stroke-width:2; stroke-opacity:0.1; fill:none\" points=\"112.865,527.581 2352.76,527.581 \"/>\n",
       "<polyline clip-path=\"url(#clip132)\" style=\"stroke:#000000; stroke-linecap:round; stroke-linejoin:round; stroke-width:2; stroke-opacity:0.1; fill:none\" points=\"112.865,287.412 2352.76,287.412 \"/>\n",
       "<polyline clip-path=\"url(#clip132)\" style=\"stroke:#000000; stroke-linecap:round; stroke-linejoin:round; stroke-width:2; stroke-opacity:0.1; fill:none\" points=\"112.865,47.2441 2352.76,47.2441 \"/>\n",
       "<polyline clip-path=\"url(#clip130)\" style=\"stroke:#000000; stroke-linecap:round; stroke-linejoin:round; stroke-width:4; stroke-opacity:1; fill:none\" points=\"112.865,1488.25 2352.76,1488.25 \"/>\n",
       "<polyline clip-path=\"url(#clip130)\" style=\"stroke:#000000; stroke-linecap:round; stroke-linejoin:round; stroke-width:4; stroke-opacity:1; fill:none\" points=\"112.865,1488.25 112.865,1469.36 \"/>\n",
       "<polyline clip-path=\"url(#clip130)\" style=\"stroke:#000000; stroke-linecap:round; stroke-linejoin:round; stroke-width:4; stroke-opacity:1; fill:none\" points=\"432.85,1488.25 432.85,1469.36 \"/>\n",
       "<polyline clip-path=\"url(#clip130)\" style=\"stroke:#000000; stroke-linecap:round; stroke-linejoin:round; stroke-width:4; stroke-opacity:1; fill:none\" points=\"752.834,1488.25 752.834,1469.36 \"/>\n",
       "<polyline clip-path=\"url(#clip130)\" style=\"stroke:#000000; stroke-linecap:round; stroke-linejoin:round; stroke-width:4; stroke-opacity:1; fill:none\" points=\"1072.82,1488.25 1072.82,1469.36 \"/>\n",
       "<polyline clip-path=\"url(#clip130)\" style=\"stroke:#000000; stroke-linecap:round; stroke-linejoin:round; stroke-width:4; stroke-opacity:1; fill:none\" points=\"1392.8,1488.25 1392.8,1469.36 \"/>\n",
       "<polyline clip-path=\"url(#clip130)\" style=\"stroke:#000000; stroke-linecap:round; stroke-linejoin:round; stroke-width:4; stroke-opacity:1; fill:none\" points=\"1712.79,1488.25 1712.79,1469.36 \"/>\n",
       "<polyline clip-path=\"url(#clip130)\" style=\"stroke:#000000; stroke-linecap:round; stroke-linejoin:round; stroke-width:4; stroke-opacity:1; fill:none\" points=\"2032.77,1488.25 2032.77,1469.36 \"/>\n",
       "<polyline clip-path=\"url(#clip130)\" style=\"stroke:#000000; stroke-linecap:round; stroke-linejoin:round; stroke-width:4; stroke-opacity:1; fill:none\" points=\"2352.76,1488.25 2352.76,1469.36 \"/>\n",
       "<g clip-path=\"url(#clip130)\">\n",
       "<text style=\"fill:#000000; fill-opacity:1; font-family:Century Gothic,CenturyGothic,AppleGothic,sans-serif; font-size:47px; text-anchor:middle;\" transform=\"rotate(0, 112.865, 1549.52)\" x=\"112.865\" y=\"1549.52\">0</text>\n",
       "</g>\n",
       "<g clip-path=\"url(#clip130)\">\n",
       "<text style=\"fill:#000000; fill-opacity:1; font-family:Century Gothic,CenturyGothic,AppleGothic,sans-serif; font-size:47px; text-anchor:middle;\" transform=\"rotate(0, 432.85, 1549.52)\" x=\"432.85\" y=\"1549.52\">1</text>\n",
       "</g>\n",
       "<g clip-path=\"url(#clip130)\">\n",
       "<text style=\"fill:#000000; fill-opacity:1; font-family:Century Gothic,CenturyGothic,AppleGothic,sans-serif; font-size:47px; text-anchor:middle;\" transform=\"rotate(0, 752.834, 1549.52)\" x=\"752.834\" y=\"1549.52\">2</text>\n",
       "</g>\n",
       "<g clip-path=\"url(#clip130)\">\n",
       "<text style=\"fill:#000000; fill-opacity:1; font-family:Century Gothic,CenturyGothic,AppleGothic,sans-serif; font-size:47px; text-anchor:middle;\" transform=\"rotate(0, 1072.82, 1549.52)\" x=\"1072.82\" y=\"1549.52\">3</text>\n",
       "</g>\n",
       "<g clip-path=\"url(#clip130)\">\n",
       "<text style=\"fill:#000000; fill-opacity:1; font-family:Century Gothic,CenturyGothic,AppleGothic,sans-serif; font-size:47px; text-anchor:middle;\" transform=\"rotate(0, 1392.8, 1549.52)\" x=\"1392.8\" y=\"1549.52\">4</text>\n",
       "</g>\n",
       "<g clip-path=\"url(#clip130)\">\n",
       "<text style=\"fill:#000000; fill-opacity:1; font-family:Century Gothic,CenturyGothic,AppleGothic,sans-serif; font-size:47px; text-anchor:middle;\" transform=\"rotate(0, 1712.79, 1549.52)\" x=\"1712.79\" y=\"1549.52\">5</text>\n",
       "</g>\n",
       "<g clip-path=\"url(#clip130)\">\n",
       "<text style=\"fill:#000000; fill-opacity:1; font-family:Century Gothic,CenturyGothic,AppleGothic,sans-serif; font-size:47px; text-anchor:middle;\" transform=\"rotate(0, 2032.77, 1549.52)\" x=\"2032.77\" y=\"1549.52\">6</text>\n",
       "</g>\n",
       "<g clip-path=\"url(#clip130)\">\n",
       "<text style=\"fill:#000000; fill-opacity:1; font-family:Century Gothic,CenturyGothic,AppleGothic,sans-serif; font-size:47px; text-anchor:middle;\" transform=\"rotate(0, 2352.76, 1549.52)\" x=\"2352.76\" y=\"1549.52\">7</text>\n",
       "</g>\n",
       "<polyline clip-path=\"url(#clip130)\" style=\"stroke:#000000; stroke-linecap:round; stroke-linejoin:round; stroke-width:4; stroke-opacity:1; fill:none\" points=\"112.865,1488.25 112.865,47.2441 \"/>\n",
       "<polyline clip-path=\"url(#clip130)\" style=\"stroke:#000000; stroke-linecap:round; stroke-linejoin:round; stroke-width:4; stroke-opacity:1; fill:none\" points=\"112.865,1488.25 131.763,1488.25 \"/>\n",
       "<polyline clip-path=\"url(#clip130)\" style=\"stroke:#000000; stroke-linecap:round; stroke-linejoin:round; stroke-width:4; stroke-opacity:1; fill:none\" points=\"112.865,1248.09 131.763,1248.09 \"/>\n",
       "<polyline clip-path=\"url(#clip130)\" style=\"stroke:#000000; stroke-linecap:round; stroke-linejoin:round; stroke-width:4; stroke-opacity:1; fill:none\" points=\"112.865,1007.92 131.763,1007.92 \"/>\n",
       "<polyline clip-path=\"url(#clip130)\" style=\"stroke:#000000; stroke-linecap:round; stroke-linejoin:round; stroke-width:4; stroke-opacity:1; fill:none\" points=\"112.865,767.749 131.763,767.749 \"/>\n",
       "<polyline clip-path=\"url(#clip130)\" style=\"stroke:#000000; stroke-linecap:round; stroke-linejoin:round; stroke-width:4; stroke-opacity:1; fill:none\" points=\"112.865,527.581 131.763,527.581 \"/>\n",
       "<polyline clip-path=\"url(#clip130)\" style=\"stroke:#000000; stroke-linecap:round; stroke-linejoin:round; stroke-width:4; stroke-opacity:1; fill:none\" points=\"112.865,287.412 131.763,287.412 \"/>\n",
       "<polyline clip-path=\"url(#clip130)\" style=\"stroke:#000000; stroke-linecap:round; stroke-linejoin:round; stroke-width:4; stroke-opacity:1; fill:none\" points=\"112.865,47.2441 131.763,47.2441 \"/>\n",
       "<g clip-path=\"url(#clip130)\">\n",
       "<text style=\"fill:#000000; fill-opacity:1; font-family:Century Gothic,CenturyGothic,AppleGothic,sans-serif; font-size:47px; text-anchor:middle;\" transform=\"rotate(0, 63.9288, 1505.75)\" x=\"63.9288\" y=\"1505.75\">0</text>\n",
       "</g>\n",
       "<g clip-path=\"url(#clip130)\">\n",
       "<text style=\"fill:#000000; fill-opacity:1; font-family:Century Gothic,CenturyGothic,AppleGothic,sans-serif; font-size:47px; text-anchor:middle;\" transform=\"rotate(0, 63.9288, 1265.59)\" x=\"63.9288\" y=\"1265.59\">1</text>\n",
       "</g>\n",
       "<g clip-path=\"url(#clip130)\">\n",
       "<text style=\"fill:#000000; fill-opacity:1; font-family:Century Gothic,CenturyGothic,AppleGothic,sans-serif; font-size:47px; text-anchor:middle;\" transform=\"rotate(0, 63.9288, 1025.42)\" x=\"63.9288\" y=\"1025.42\">2</text>\n",
       "</g>\n",
       "<g clip-path=\"url(#clip130)\">\n",
       "<text style=\"fill:#000000; fill-opacity:1; font-family:Century Gothic,CenturyGothic,AppleGothic,sans-serif; font-size:47px; text-anchor:middle;\" transform=\"rotate(0, 63.9288, 785.249)\" x=\"63.9288\" y=\"785.249\">3</text>\n",
       "</g>\n",
       "<g clip-path=\"url(#clip130)\">\n",
       "<text style=\"fill:#000000; fill-opacity:1; font-family:Century Gothic,CenturyGothic,AppleGothic,sans-serif; font-size:47px; text-anchor:middle;\" transform=\"rotate(0, 63.9288, 545.081)\" x=\"63.9288\" y=\"545.081\">4</text>\n",
       "</g>\n",
       "<g clip-path=\"url(#clip130)\">\n",
       "<text style=\"fill:#000000; fill-opacity:1; font-family:Century Gothic,CenturyGothic,AppleGothic,sans-serif; font-size:47px; text-anchor:middle;\" transform=\"rotate(0, 63.9288, 304.912)\" x=\"63.9288\" y=\"304.912\">5</text>\n",
       "</g>\n",
       "<g clip-path=\"url(#clip130)\">\n",
       "<text style=\"fill:#000000; fill-opacity:1; font-family:Century Gothic,CenturyGothic,AppleGothic,sans-serif; font-size:47px; text-anchor:middle;\" transform=\"rotate(0, 63.9288, 64.7441)\" x=\"63.9288\" y=\"64.7441\">6</text>\n",
       "</g>\n",
       "<polyline clip-path=\"url(#clip132)\" style=\"stroke:#009af9; stroke-linecap:round; stroke-linejoin:round; stroke-width:4; stroke-opacity:1; fill:none\" points=\"112.865,47.2441 135.989,64.6001 271.424,166.253 334.429,213.541 418.878,276.926 488.659,329.301 553.549,378.005 635.007,439.144 708.076,493.987 791.714,556.762 854.232,603.686 934.195,663.703 1007.18,718.481 1090.24,780.825 1156.09,830.247 1237.89,891.646 1300.54,938.669 1388.87,1004.96 1454.87,1054.5 1529.93,1110.84 1604.27,1166.64 1686.06,1228.02 1748.53,1274.91 1827.36,1334.08 1900.27,1388.8 1975.46,1445.24 2051.68,1502.45 2131.27,1562.18 2193.96,1609.24 2336.74,1716.4 2352.76,1728.42 \"/>\n",
       "<polyline clip-path=\"url(#clip132)\" style=\"stroke:#e26f46; stroke-linecap:round; stroke-linejoin:round; stroke-width:4; stroke-opacity:1; fill:none\" points=\"112.865,527.581 135.989,533.366 271.424,567.25 334.429,583.013 418.878,604.141 488.659,621.6 553.549,637.834 635.007,658.214 708.076,676.495 791.714,697.42 854.232,713.061 934.195,733.067 1007.18,751.326 1090.24,772.108 1156.09,788.581 1237.89,809.048 1300.54,824.722 1388.87,846.82 1454.87,863.334 1529.93,882.114 1604.27,900.712 1686.06,921.174 1748.53,936.803 1827.36,956.525 1900.27,974.767 1975.46,993.579 2051.68,1012.65 2131.27,1032.56 2193.96,1048.25 2336.74,1083.97 2352.76,1087.97 \"/>\n",
       "<polyline clip-path=\"url(#clip132)\" style=\"stroke:#3da44d; stroke-linecap:round; stroke-linejoin:round; stroke-width:4; stroke-opacity:1; fill:none\" points=\"112.865,767.749 135.989,793.783 271.424,946.262 334.429,1017.19 418.878,1112.27 488.659,1190.83 553.549,1263.89 635.007,1355.6 708.076,1437.86 791.714,1532.03 854.232,1602.41 934.195,1692.44 1007.18,1774.6 1090.24,1868.12 1156.09,1942.25 1237.89,2034.35 1300.54,2104.89 1388.87,2204.33 1454.87,2278.64 1529.93,2363.15 1604.27,2446.84 1686.06,2538.92 1748.53,2609.25 1827.36,2698 1900.27,2780.09 1975.46,2864.74 2051.68,2950.55 2131.27,3040.16 2193.96,3110.74 2336.74,3271.48 2352.76,3289.52 \"/>\n",
       "<path clip-path=\"url(#clip130)\" d=\"M1714.95 291.803 L2278.09 291.803 L2278.09 95.2777 L1714.95 95.2777  Z\" fill=\"#ffffff\" fill-rule=\"evenodd\" fill-opacity=\"1\"/>\n",
       "<polyline clip-path=\"url(#clip130)\" style=\"stroke:#000000; stroke-linecap:round; stroke-linejoin:round; stroke-width:4; stroke-opacity:1; fill:none\" points=\"1714.95,291.803 2278.09,291.803 2278.09,95.2777 1714.95,95.2777 1714.95,291.803 \"/>\n",
       "<polyline clip-path=\"url(#clip130)\" style=\"stroke:#009af9; stroke-linecap:round; stroke-linejoin:round; stroke-width:4; stroke-opacity:1; fill:none\" points=\"1739.84,144.409 1889.16,144.409 \"/>\n",
       "<g clip-path=\"url(#clip130)\">\n",
       "<text style=\"fill:#000000; fill-opacity:1; font-family:Century Gothic,CenturyGothic,AppleGothic,sans-serif; font-size:47px; text-anchor:start;\" transform=\"rotate(0, 1914.05, 161.909)\" x=\"1914.05\" y=\"161.909\">x1 + x2 = 6</text>\n",
       "</g>\n",
       "<polyline clip-path=\"url(#clip130)\" style=\"stroke:#e26f46; stroke-linecap:round; stroke-linejoin:round; stroke-width:4; stroke-opacity:1; fill:none\" points=\"1739.84,193.54 1889.16,193.54 \"/>\n",
       "<g clip-path=\"url(#clip130)\">\n",
       "<text style=\"fill:#000000; fill-opacity:1; font-family:Century Gothic,CenturyGothic,AppleGothic,sans-serif; font-size:47px; text-anchor:start;\" transform=\"rotate(0, 1914.05, 211.04)\" x=\"1914.05\" y=\"211.04\">x1 + 3x2 = 12</text>\n",
       "</g>\n",
       "<polyline clip-path=\"url(#clip130)\" style=\"stroke:#3da44d; stroke-linecap:round; stroke-linejoin:round; stroke-width:4; stroke-opacity:1; fill:none\" points=\"1739.84,242.671 1889.16,242.671 \"/>\n",
       "<g clip-path=\"url(#clip130)\">\n",
       "<text style=\"fill:#000000; fill-opacity:1; font-family:Century Gothic,CenturyGothic,AppleGothic,sans-serif; font-size:47px; text-anchor:start;\" transform=\"rotate(0, 1914.05, 260.171)\" x=\"1914.05\" y=\"260.171\">-3x1 - 2x2 = -6</text>\n",
       "</g>\n",
       "</svg>\n"
      ],
      "text/html": [
       "<?xml version=\"1.0\" encoding=\"utf-8\"?>\n",
       "<svg xmlns=\"http://www.w3.org/2000/svg\" xmlns:xlink=\"http://www.w3.org/1999/xlink\" width=\"600\" height=\"400\" viewBox=\"0 0 2400 1600\">\n",
       "<defs>\n",
       "  <clipPath id=\"clip180\">\n",
       "    <rect x=\"0\" y=\"0\" width=\"2400\" height=\"1600\"/>\n",
       "  </clipPath>\n",
       "</defs>\n",
       "<path clip-path=\"url(#clip180)\" d=\"M0 1600 L2400 1600 L2400 8.88178e-14 L0 8.88178e-14  Z\" fill=\"#ffffff\" fill-rule=\"evenodd\" fill-opacity=\"1\"/>\n",
       "<defs>\n",
       "  <clipPath id=\"clip181\">\n",
       "    <rect x=\"480\" y=\"0\" width=\"1681\" height=\"1600\"/>\n",
       "  </clipPath>\n",
       "</defs>\n",
       "<path clip-path=\"url(#clip180)\" d=\"M112.865 1488.25 L2352.76 1488.25 L2352.76 47.2441 L112.865 47.2441  Z\" fill=\"#ffffff\" fill-rule=\"evenodd\" fill-opacity=\"1\"/>\n",
       "<defs>\n",
       "  <clipPath id=\"clip182\">\n",
       "    <rect x=\"112\" y=\"47\" width=\"2241\" height=\"1442\"/>\n",
       "  </clipPath>\n",
       "</defs>\n",
       "<polyline clip-path=\"url(#clip182)\" style=\"stroke:#000000; stroke-linecap:round; stroke-linejoin:round; stroke-width:2; stroke-opacity:0.1; fill:none\" points=\"112.865,1488.25 112.865,47.2441 \"/>\n",
       "<polyline clip-path=\"url(#clip182)\" style=\"stroke:#000000; stroke-linecap:round; stroke-linejoin:round; stroke-width:2; stroke-opacity:0.1; fill:none\" points=\"432.85,1488.25 432.85,47.2441 \"/>\n",
       "<polyline clip-path=\"url(#clip182)\" style=\"stroke:#000000; stroke-linecap:round; stroke-linejoin:round; stroke-width:2; stroke-opacity:0.1; fill:none\" points=\"752.834,1488.25 752.834,47.2441 \"/>\n",
       "<polyline clip-path=\"url(#clip182)\" style=\"stroke:#000000; stroke-linecap:round; stroke-linejoin:round; stroke-width:2; stroke-opacity:0.1; fill:none\" points=\"1072.82,1488.25 1072.82,47.2441 \"/>\n",
       "<polyline clip-path=\"url(#clip182)\" style=\"stroke:#000000; stroke-linecap:round; stroke-linejoin:round; stroke-width:2; stroke-opacity:0.1; fill:none\" points=\"1392.8,1488.25 1392.8,47.2441 \"/>\n",
       "<polyline clip-path=\"url(#clip182)\" style=\"stroke:#000000; stroke-linecap:round; stroke-linejoin:round; stroke-width:2; stroke-opacity:0.1; fill:none\" points=\"1712.79,1488.25 1712.79,47.2441 \"/>\n",
       "<polyline clip-path=\"url(#clip182)\" style=\"stroke:#000000; stroke-linecap:round; stroke-linejoin:round; stroke-width:2; stroke-opacity:0.1; fill:none\" points=\"2032.77,1488.25 2032.77,47.2441 \"/>\n",
       "<polyline clip-path=\"url(#clip182)\" style=\"stroke:#000000; stroke-linecap:round; stroke-linejoin:round; stroke-width:2; stroke-opacity:0.1; fill:none\" points=\"2352.76,1488.25 2352.76,47.2441 \"/>\n",
       "<polyline clip-path=\"url(#clip182)\" style=\"stroke:#000000; stroke-linecap:round; stroke-linejoin:round; stroke-width:2; stroke-opacity:0.1; fill:none\" points=\"112.865,1488.25 2352.76,1488.25 \"/>\n",
       "<polyline clip-path=\"url(#clip182)\" style=\"stroke:#000000; stroke-linecap:round; stroke-linejoin:round; stroke-width:2; stroke-opacity:0.1; fill:none\" points=\"112.865,1248.09 2352.76,1248.09 \"/>\n",
       "<polyline clip-path=\"url(#clip182)\" style=\"stroke:#000000; stroke-linecap:round; stroke-linejoin:round; stroke-width:2; stroke-opacity:0.1; fill:none\" points=\"112.865,1007.92 2352.76,1007.92 \"/>\n",
       "<polyline clip-path=\"url(#clip182)\" style=\"stroke:#000000; stroke-linecap:round; stroke-linejoin:round; stroke-width:2; stroke-opacity:0.1; fill:none\" points=\"112.865,767.749 2352.76,767.749 \"/>\n",
       "<polyline clip-path=\"url(#clip182)\" style=\"stroke:#000000; stroke-linecap:round; stroke-linejoin:round; stroke-width:2; stroke-opacity:0.1; fill:none\" points=\"112.865,527.581 2352.76,527.581 \"/>\n",
       "<polyline clip-path=\"url(#clip182)\" style=\"stroke:#000000; stroke-linecap:round; stroke-linejoin:round; stroke-width:2; stroke-opacity:0.1; fill:none\" points=\"112.865,287.412 2352.76,287.412 \"/>\n",
       "<polyline clip-path=\"url(#clip182)\" style=\"stroke:#000000; stroke-linecap:round; stroke-linejoin:round; stroke-width:2; stroke-opacity:0.1; fill:none\" points=\"112.865,47.2441 2352.76,47.2441 \"/>\n",
       "<polyline clip-path=\"url(#clip180)\" style=\"stroke:#000000; stroke-linecap:round; stroke-linejoin:round; stroke-width:4; stroke-opacity:1; fill:none\" points=\"112.865,1488.25 2352.76,1488.25 \"/>\n",
       "<polyline clip-path=\"url(#clip180)\" style=\"stroke:#000000; stroke-linecap:round; stroke-linejoin:round; stroke-width:4; stroke-opacity:1; fill:none\" points=\"112.865,1488.25 112.865,1469.36 \"/>\n",
       "<polyline clip-path=\"url(#clip180)\" style=\"stroke:#000000; stroke-linecap:round; stroke-linejoin:round; stroke-width:4; stroke-opacity:1; fill:none\" points=\"432.85,1488.25 432.85,1469.36 \"/>\n",
       "<polyline clip-path=\"url(#clip180)\" style=\"stroke:#000000; stroke-linecap:round; stroke-linejoin:round; stroke-width:4; stroke-opacity:1; fill:none\" points=\"752.834,1488.25 752.834,1469.36 \"/>\n",
       "<polyline clip-path=\"url(#clip180)\" style=\"stroke:#000000; stroke-linecap:round; stroke-linejoin:round; stroke-width:4; stroke-opacity:1; fill:none\" points=\"1072.82,1488.25 1072.82,1469.36 \"/>\n",
       "<polyline clip-path=\"url(#clip180)\" style=\"stroke:#000000; stroke-linecap:round; stroke-linejoin:round; stroke-width:4; stroke-opacity:1; fill:none\" points=\"1392.8,1488.25 1392.8,1469.36 \"/>\n",
       "<polyline clip-path=\"url(#clip180)\" style=\"stroke:#000000; stroke-linecap:round; stroke-linejoin:round; stroke-width:4; stroke-opacity:1; fill:none\" points=\"1712.79,1488.25 1712.79,1469.36 \"/>\n",
       "<polyline clip-path=\"url(#clip180)\" style=\"stroke:#000000; stroke-linecap:round; stroke-linejoin:round; stroke-width:4; stroke-opacity:1; fill:none\" points=\"2032.77,1488.25 2032.77,1469.36 \"/>\n",
       "<polyline clip-path=\"url(#clip180)\" style=\"stroke:#000000; stroke-linecap:round; stroke-linejoin:round; stroke-width:4; stroke-opacity:1; fill:none\" points=\"2352.76,1488.25 2352.76,1469.36 \"/>\n",
       "<g clip-path=\"url(#clip180)\">\n",
       "<text style=\"fill:#000000; fill-opacity:1; font-family:Century Gothic,CenturyGothic,AppleGothic,sans-serif; font-size:47px; text-anchor:middle;\" transform=\"rotate(0, 112.865, 1549.52)\" x=\"112.865\" y=\"1549.52\">0</text>\n",
       "</g>\n",
       "<g clip-path=\"url(#clip180)\">\n",
       "<text style=\"fill:#000000; fill-opacity:1; font-family:Century Gothic,CenturyGothic,AppleGothic,sans-serif; font-size:47px; text-anchor:middle;\" transform=\"rotate(0, 432.85, 1549.52)\" x=\"432.85\" y=\"1549.52\">1</text>\n",
       "</g>\n",
       "<g clip-path=\"url(#clip180)\">\n",
       "<text style=\"fill:#000000; fill-opacity:1; font-family:Century Gothic,CenturyGothic,AppleGothic,sans-serif; font-size:47px; text-anchor:middle;\" transform=\"rotate(0, 752.834, 1549.52)\" x=\"752.834\" y=\"1549.52\">2</text>\n",
       "</g>\n",
       "<g clip-path=\"url(#clip180)\">\n",
       "<text style=\"fill:#000000; fill-opacity:1; font-family:Century Gothic,CenturyGothic,AppleGothic,sans-serif; font-size:47px; text-anchor:middle;\" transform=\"rotate(0, 1072.82, 1549.52)\" x=\"1072.82\" y=\"1549.52\">3</text>\n",
       "</g>\n",
       "<g clip-path=\"url(#clip180)\">\n",
       "<text style=\"fill:#000000; fill-opacity:1; font-family:Century Gothic,CenturyGothic,AppleGothic,sans-serif; font-size:47px; text-anchor:middle;\" transform=\"rotate(0, 1392.8, 1549.52)\" x=\"1392.8\" y=\"1549.52\">4</text>\n",
       "</g>\n",
       "<g clip-path=\"url(#clip180)\">\n",
       "<text style=\"fill:#000000; fill-opacity:1; font-family:Century Gothic,CenturyGothic,AppleGothic,sans-serif; font-size:47px; text-anchor:middle;\" transform=\"rotate(0, 1712.79, 1549.52)\" x=\"1712.79\" y=\"1549.52\">5</text>\n",
       "</g>\n",
       "<g clip-path=\"url(#clip180)\">\n",
       "<text style=\"fill:#000000; fill-opacity:1; font-family:Century Gothic,CenturyGothic,AppleGothic,sans-serif; font-size:47px; text-anchor:middle;\" transform=\"rotate(0, 2032.77, 1549.52)\" x=\"2032.77\" y=\"1549.52\">6</text>\n",
       "</g>\n",
       "<g clip-path=\"url(#clip180)\">\n",
       "<text style=\"fill:#000000; fill-opacity:1; font-family:Century Gothic,CenturyGothic,AppleGothic,sans-serif; font-size:47px; text-anchor:middle;\" transform=\"rotate(0, 2352.76, 1549.52)\" x=\"2352.76\" y=\"1549.52\">7</text>\n",
       "</g>\n",
       "<polyline clip-path=\"url(#clip180)\" style=\"stroke:#000000; stroke-linecap:round; stroke-linejoin:round; stroke-width:4; stroke-opacity:1; fill:none\" points=\"112.865,1488.25 112.865,47.2441 \"/>\n",
       "<polyline clip-path=\"url(#clip180)\" style=\"stroke:#000000; stroke-linecap:round; stroke-linejoin:round; stroke-width:4; stroke-opacity:1; fill:none\" points=\"112.865,1488.25 131.763,1488.25 \"/>\n",
       "<polyline clip-path=\"url(#clip180)\" style=\"stroke:#000000; stroke-linecap:round; stroke-linejoin:round; stroke-width:4; stroke-opacity:1; fill:none\" points=\"112.865,1248.09 131.763,1248.09 \"/>\n",
       "<polyline clip-path=\"url(#clip180)\" style=\"stroke:#000000; stroke-linecap:round; stroke-linejoin:round; stroke-width:4; stroke-opacity:1; fill:none\" points=\"112.865,1007.92 131.763,1007.92 \"/>\n",
       "<polyline clip-path=\"url(#clip180)\" style=\"stroke:#000000; stroke-linecap:round; stroke-linejoin:round; stroke-width:4; stroke-opacity:1; fill:none\" points=\"112.865,767.749 131.763,767.749 \"/>\n",
       "<polyline clip-path=\"url(#clip180)\" style=\"stroke:#000000; stroke-linecap:round; stroke-linejoin:round; stroke-width:4; stroke-opacity:1; fill:none\" points=\"112.865,527.581 131.763,527.581 \"/>\n",
       "<polyline clip-path=\"url(#clip180)\" style=\"stroke:#000000; stroke-linecap:round; stroke-linejoin:round; stroke-width:4; stroke-opacity:1; fill:none\" points=\"112.865,287.412 131.763,287.412 \"/>\n",
       "<polyline clip-path=\"url(#clip180)\" style=\"stroke:#000000; stroke-linecap:round; stroke-linejoin:round; stroke-width:4; stroke-opacity:1; fill:none\" points=\"112.865,47.2441 131.763,47.2441 \"/>\n",
       "<g clip-path=\"url(#clip180)\">\n",
       "<text style=\"fill:#000000; fill-opacity:1; font-family:Century Gothic,CenturyGothic,AppleGothic,sans-serif; font-size:47px; text-anchor:middle;\" transform=\"rotate(0, 63.9288, 1505.75)\" x=\"63.9288\" y=\"1505.75\">0</text>\n",
       "</g>\n",
       "<g clip-path=\"url(#clip180)\">\n",
       "<text style=\"fill:#000000; fill-opacity:1; font-family:Century Gothic,CenturyGothic,AppleGothic,sans-serif; font-size:47px; text-anchor:middle;\" transform=\"rotate(0, 63.9288, 1265.59)\" x=\"63.9288\" y=\"1265.59\">1</text>\n",
       "</g>\n",
       "<g clip-path=\"url(#clip180)\">\n",
       "<text style=\"fill:#000000; fill-opacity:1; font-family:Century Gothic,CenturyGothic,AppleGothic,sans-serif; font-size:47px; text-anchor:middle;\" transform=\"rotate(0, 63.9288, 1025.42)\" x=\"63.9288\" y=\"1025.42\">2</text>\n",
       "</g>\n",
       "<g clip-path=\"url(#clip180)\">\n",
       "<text style=\"fill:#000000; fill-opacity:1; font-family:Century Gothic,CenturyGothic,AppleGothic,sans-serif; font-size:47px; text-anchor:middle;\" transform=\"rotate(0, 63.9288, 785.249)\" x=\"63.9288\" y=\"785.249\">3</text>\n",
       "</g>\n",
       "<g clip-path=\"url(#clip180)\">\n",
       "<text style=\"fill:#000000; fill-opacity:1; font-family:Century Gothic,CenturyGothic,AppleGothic,sans-serif; font-size:47px; text-anchor:middle;\" transform=\"rotate(0, 63.9288, 545.081)\" x=\"63.9288\" y=\"545.081\">4</text>\n",
       "</g>\n",
       "<g clip-path=\"url(#clip180)\">\n",
       "<text style=\"fill:#000000; fill-opacity:1; font-family:Century Gothic,CenturyGothic,AppleGothic,sans-serif; font-size:47px; text-anchor:middle;\" transform=\"rotate(0, 63.9288, 304.912)\" x=\"63.9288\" y=\"304.912\">5</text>\n",
       "</g>\n",
       "<g clip-path=\"url(#clip180)\">\n",
       "<text style=\"fill:#000000; fill-opacity:1; font-family:Century Gothic,CenturyGothic,AppleGothic,sans-serif; font-size:47px; text-anchor:middle;\" transform=\"rotate(0, 63.9288, 64.7441)\" x=\"63.9288\" y=\"64.7441\">6</text>\n",
       "</g>\n",
       "<polyline clip-path=\"url(#clip182)\" style=\"stroke:#009af9; stroke-linecap:round; stroke-linejoin:round; stroke-width:4; stroke-opacity:1; fill:none\" points=\"112.865,47.2441 135.989,64.6001 271.424,166.253 334.429,213.541 418.878,276.926 488.659,329.301 553.549,378.005 635.007,439.144 708.076,493.987 791.714,556.762 854.232,603.686 934.195,663.703 1007.18,718.481 1090.24,780.825 1156.09,830.247 1237.89,891.646 1300.54,938.669 1388.87,1004.96 1454.87,1054.5 1529.93,1110.84 1604.27,1166.64 1686.06,1228.02 1748.53,1274.91 1827.36,1334.08 1900.27,1388.8 1975.46,1445.24 2051.68,1502.45 2131.27,1562.18 2193.96,1609.24 2336.74,1716.4 2352.76,1728.42 \"/>\n",
       "<polyline clip-path=\"url(#clip182)\" style=\"stroke:#e26f46; stroke-linecap:round; stroke-linejoin:round; stroke-width:4; stroke-opacity:1; fill:none\" points=\"112.865,527.581 135.989,533.366 271.424,567.25 334.429,583.013 418.878,604.141 488.659,621.6 553.549,637.834 635.007,658.214 708.076,676.495 791.714,697.42 854.232,713.061 934.195,733.067 1007.18,751.326 1090.24,772.108 1156.09,788.581 1237.89,809.048 1300.54,824.722 1388.87,846.82 1454.87,863.334 1529.93,882.114 1604.27,900.712 1686.06,921.174 1748.53,936.803 1827.36,956.525 1900.27,974.767 1975.46,993.579 2051.68,1012.65 2131.27,1032.56 2193.96,1048.25 2336.74,1083.97 2352.76,1087.97 \"/>\n",
       "<polyline clip-path=\"url(#clip182)\" style=\"stroke:#3da44d; stroke-linecap:round; stroke-linejoin:round; stroke-width:4; stroke-opacity:1; fill:none\" points=\"112.865,767.749 135.989,793.783 271.424,946.262 334.429,1017.19 418.878,1112.27 488.659,1190.83 553.549,1263.89 635.007,1355.6 708.076,1437.86 791.714,1532.03 854.232,1602.41 934.195,1692.44 1007.18,1774.6 1090.24,1868.12 1156.09,1942.25 1237.89,2034.35 1300.54,2104.89 1388.87,2204.33 1454.87,2278.64 1529.93,2363.15 1604.27,2446.84 1686.06,2538.92 1748.53,2609.25 1827.36,2698 1900.27,2780.09 1975.46,2864.74 2051.68,2950.55 2131.27,3040.16 2193.96,3110.74 2336.74,3271.48 2352.76,3289.52 \"/>\n",
       "<path clip-path=\"url(#clip180)\" d=\"M1714.95 291.803 L2278.09 291.803 L2278.09 95.2777 L1714.95 95.2777  Z\" fill=\"#ffffff\" fill-rule=\"evenodd\" fill-opacity=\"1\"/>\n",
       "<polyline clip-path=\"url(#clip180)\" style=\"stroke:#000000; stroke-linecap:round; stroke-linejoin:round; stroke-width:4; stroke-opacity:1; fill:none\" points=\"1714.95,291.803 2278.09,291.803 2278.09,95.2777 1714.95,95.2777 1714.95,291.803 \"/>\n",
       "<polyline clip-path=\"url(#clip180)\" style=\"stroke:#009af9; stroke-linecap:round; stroke-linejoin:round; stroke-width:4; stroke-opacity:1; fill:none\" points=\"1739.84,144.409 1889.16,144.409 \"/>\n",
       "<g clip-path=\"url(#clip180)\">\n",
       "<text style=\"fill:#000000; fill-opacity:1; font-family:Century Gothic,CenturyGothic,AppleGothic,sans-serif; font-size:47px; text-anchor:start;\" transform=\"rotate(0, 1914.05, 161.909)\" x=\"1914.05\" y=\"161.909\">x1 + x2 = 6</text>\n",
       "</g>\n",
       "<polyline clip-path=\"url(#clip180)\" style=\"stroke:#e26f46; stroke-linecap:round; stroke-linejoin:round; stroke-width:4; stroke-opacity:1; fill:none\" points=\"1739.84,193.54 1889.16,193.54 \"/>\n",
       "<g clip-path=\"url(#clip180)\">\n",
       "<text style=\"fill:#000000; fill-opacity:1; font-family:Century Gothic,CenturyGothic,AppleGothic,sans-serif; font-size:47px; text-anchor:start;\" transform=\"rotate(0, 1914.05, 211.04)\" x=\"1914.05\" y=\"211.04\">x1 + 3x2 = 12</text>\n",
       "</g>\n",
       "<polyline clip-path=\"url(#clip180)\" style=\"stroke:#3da44d; stroke-linecap:round; stroke-linejoin:round; stroke-width:4; stroke-opacity:1; fill:none\" points=\"1739.84,242.671 1889.16,242.671 \"/>\n",
       "<g clip-path=\"url(#clip180)\">\n",
       "<text style=\"fill:#000000; fill-opacity:1; font-family:Century Gothic,CenturyGothic,AppleGothic,sans-serif; font-size:47px; text-anchor:start;\" transform=\"rotate(0, 1914.05, 260.171)\" x=\"1914.05\" y=\"260.171\">-3x1 - 2x2 = -6</text>\n",
       "</g>\n",
       "</svg>\n"
      ]
     },
     "metadata": {},
     "output_type": "display_data"
    }
   ],
   "source": [
    "using Plots\n",
    "\n",
    "# 制約条件のプロット\n",
    "plot(x -> 6 - x, 0, 7, label=\"x1 + x2 = 6\", xlims=(0, 7), ylims=(0, 6))\n",
    "plot!(x -> (12 - x) / 3, 0, 7, label=\"x1 + 3x2 = 12\", xlims=(0, 7), ylims=(0, 6))\n",
    "plot!(x -> (-6 + 3x) / -2, 0, 7, label=\"-3x1 - 2x2 = -6\", xlims=(0, 7), ylims=(0, 6))"
   ]
  },
  {
   "cell_type": "code",
   "execution_count": 11,
   "metadata": {},
   "outputs": [
    {
     "name": "stdout",
     "output_type": "stream",
     "text": [
      "収束しました\n",
      "実行可能解を発見しました\n",
      "非基底ベクトル：[5, 6, 2] = [0.0, 0.0, 0.0]\n",
      "基底ベクトル：[4, 3, 1] = [10.0, 4.0, 2.0]\n",
      "補助変数は 6 です\n",
      "基数の初期値を設定しました：Set([5, 2])\n",
      "単体法を実行します\n",
      "収束しました\n",
      "結果：3回の反復試行を行いました\n"
     ]
    },
    {
     "data": {
      "text/plain": [
       "([2.9999999999999996, 3.0], 9.0)"
      ]
     },
     "metadata": {},
     "output_type": "display_data"
    }
   ],
   "source": [
    "object       = [1 2]\n",
    "conditions_A = [1 1; 1 3; -3 -2]\n",
    "conditions_b = [6, 12, -6]\n",
    "\n",
    "two_phase_simplex(object, conditions_A, conditions_b)"
   ]
  },
  {
   "cell_type": "code",
   "execution_count": 12,
   "metadata": {},
   "outputs": [
    {
     "data": {
      "text/plain": [
       "1×3 Matrix{Int64}:\n",
       " -6  -12  -10"
      ]
     },
     "metadata": {},
     "output_type": "display_data"
    },
    {
     "data": {
      "text/plain": [
       "2×3 Matrix{Int64}:\n",
       " -1  -3  -1\n",
       " -1  -1  -2"
      ]
     },
     "metadata": {},
     "output_type": "display_data"
    },
    {
     "data": {
      "text/plain": [
       "2-element Vector{Int64}:\n",
       " -20\n",
       " -10"
      ]
     },
     "metadata": {},
     "output_type": "display_data"
    },
    {
     "data": {
      "text/plain": [
       "No_nonNegative::LP_Prob = 1"
      ]
     },
     "metadata": {},
     "output_type": "display_data"
    },
    {
     "name": "stdout",
     "output_type": "stream",
     "text": [
      "収束しました\n",
      "実行可能解を発見しました\n",
      "非基底ベクトル：[5, 4, 6, 7, 9, 8, 1] = [0.0, 0.0, 0.0, 0.0, 0.0, 0.0, 0.0]\n",
      "基底ベクトル：[2, 3] = [5.999999999999999, 2.0]\n",
      "補助変数は 9 です\n",
      "基数の初期値を設定しました：Set([5, 4, 6, 7, 8, 1])\n",
      "単体法を実行します\n",
      "収束に失敗しました\n",
      "設定された問題は非有界です\n",
      "結果：2回の反復試行を行いました\n",
      "[30.0, 0.0, -10.0] -80.0\n",
      "この問題の上界は 80.0 です\n",
      "\n",
      "収束しました\n",
      "実行可能解を得られませんでした\n",
      "非基底ベクトル：[7, 8, 3] = [0.0, 0.0, 0.0]\n",
      "基底ベクトル：[5, 4, 6, 2, 9, 1] = [0.5, 0.5, 0.5, 3.5, 0.25, 2.75]\n",
      "補助変数は 9 です\n"
     ]
    },
    {
     "data": {
      "text/plain": [
       "1×2 Matrix{Int64}:\n",
       " 20  10"
      ]
     },
     "metadata": {},
     "output_type": "display_data"
    },
    {
     "data": {
      "text/plain": [
       "3×2 Matrix{Int64}:\n",
       " 1  1\n",
       " 3  1\n",
       " 1  2"
      ]
     },
     "metadata": {},
     "output_type": "display_data"
    },
    {
     "data": {
      "text/plain": [
       "3-element Vector{Int64}:\n",
       "  6\n",
       " 12\n",
       " 10"
      ]
     },
     "metadata": {},
     "output_type": "display_data"
    },
    {
     "data": {
      "text/plain": [
       "Equality::LP_Prob = 2"
      ]
     },
     "metadata": {},
     "output_type": "display_data"
    }
   ],
   "source": [
    "object       = [20 10]\n",
    "conditions_A = [1 1; 3 1; 1 2]\n",
    "conditions_b = [6, 12, 10]\n",
    "format       = Equality\n",
    "\n",
    "dual_object, dual_conditions_A, dual_conditions_b, dual_format = convert_dual_problem(object, conditions_A, conditions_b; format=format)\n",
    "display(dual_object)\n",
    "display(dual_conditions_A)\n",
    "display(dual_conditions_b)\n",
    "display(dual_format)\n",
    "x, z = two_phase_simplex(dual_object, dual_conditions_A, dual_conditions_b; format=dual_format)\n",
    "println(x, \" \", z)\n",
    "println(\"この問題の上界は \", -z, \" です\")\n",
    "println()\n",
    "\n",
    "dual_dual_object, dual_dual_conditions_A, dual_dual_conditions_b, dual_format = convert_dual_problem(dual_object, dual_conditions_A, dual_conditions_b; format=dual_format)\n",
    "display(dual_dual_object)\n",
    "display(dual_dual_conditions_A)\n",
    "display(dual_dual_conditions_b)\n",
    "display(dual_format)\n",
    "two_phase_simplex(dual_dual_object, dual_dual_conditions_A, dual_dual_conditions_b; format=dual_format)"
   ]
  },
  {
   "cell_type": "code",
   "execution_count": 13,
   "metadata": {},
   "outputs": [
    {
     "name": "stdout",
     "output_type": "stream",
     "text": [
      "実行可能解を発見しました\n",
      "単体法を実行します\n",
      "収束しました\n",
      "結果：2回の反復試行を行いました\n"
     ]
    },
    {
     "data": {
      "text/plain": [
       "([4.0, 3.0], 44.0)"
      ]
     },
     "metadata": {},
     "output_type": "display_data"
    }
   ],
   "source": [
    "object       = [5 8]\n",
    "conditions_A = [1 2; 3 4; 2 1]\n",
    "conditions_b = [10, 24, 11]\n",
    "\n",
    "# simplex(object, conditions_A, conditions_b, non_Basic_Set=Set([3, 4]))\n",
    "two_phase_simplex(object, conditions_A, conditions_b; format=No_nonNegative)"
   ]
  },
  {
   "cell_type": "code",
   "execution_count": 17,
   "metadata": {},
   "outputs": [
    {
     "name": "stdout",
     "output_type": "stream",
     "text": [
      "実行可能解を発見しました\n",
      "単体法を実行します\n",
      "収束しました\n",
      "結果：6回の反復試行を行いました\n"
     ]
    },
    {
     "data": {
      "text/plain": [
       "([440.0, 0.0, 40.0, 0.0, 400.0, 0.0, 0.0, 20.0, 210.0], 10910.0)"
      ]
     },
     "metadata": {},
     "output_type": "display_data"
    }
   ],
   "source": [
    "# しっかり学ぶ数理最適化\n",
    "# 演習問題2.1\n",
    "object       = [8 14 11  4 12  7  4 13  9]\n",
    "conditions_A = [1  1  1  0  0  0  0  0  0; 0 0 0 1 1 1 0 0 0; 0 0 0 0 0 0 1 1 1; 0 1 0 0 1 0 0 1 0; 0 0 1 0 0 1 0 0 1]\n",
    "conditions_b = [480, 400, 230, 420, 250]\n",
    "\n",
    "# simplex(object, conditions_A, conditions_b; format=Standard)\n",
    "two_phase_simplex(object, conditions_A, conditions_b; format=Standard)"
   ]
  },
  {
   "cell_type": "code",
   "execution_count": 23,
   "metadata": {},
   "outputs": [
    {
     "name": "stdout",
     "output_type": "stream",
     "text": [
      "実行可能解を発見しました\n",
      "単体法を実行します\n",
      "収束しました\n",
      "結果：6回の反復試行を行いました\n"
     ]
    },
    {
     "data": {
      "text/plain": [
       "true"
      ]
     },
     "metadata": {},
     "output_type": "display_data"
    }
   ],
   "source": [
    "# しっかり学ぶ数理最適化\n",
    "# 演習問題2.2\n",
    "object       = [4.83 4.83 4.83 4.83 4.96 5.85 6.45      0   0   0    0      0   0   0    0      0   0   0    0]\n",
    "conditions_A = [   0    0    0    0   -1    0    0      1   1   1    1      0   0   0    0      0   0   0    0;\n",
    "\t\t\t\t   0    0    0    0    1    0    0     -1  -1  -1   -1      0   0   0    0      0   0   0    0;\n",
    "\t\t\t\t   0    0    0    0    0   -1    0      0   0   0    0      1   1   1    1      0   0   0    0;\n",
    "\t\t\t\t   0    0    0    0    0    1    0      0   0   0    0     -1  -1  -1   -1      0   0   0    0;\n",
    "\t\t\t\t   0    0    0    0    0    0   -1      0   0   0    0      0   0   0    0      1   1   1    1;\n",
    "\t\t\t\t   0    0    0    0    0    0    1      0   0   0    0      0   0   0    0     -1  -1  -1   -1;\n",
    "\t\t\t\t   0    0    0    0   80    0    0 -107.5 -93 -87 -108      0   0   0    0      0   0   0    0;\n",
    "\t\t\t\t   0    0    0    0   -7    0    0      5   8   4 20.5      0   0   0    0      0   0   0    0;\n",
    "\t\t\t\t   0    0    0    0    0   91    0      0   0   0    0 -107.5 -93 -87 -108      0   0   0    0;\n",
    "\t\t\t\t   0    0    0    0    0   -7    0      0   0   0    0      5   8   4 20.5      0   0   0    0;\n",
    "\t\t\t\t   0    0    0    0    0    0  100      0   0   0    0      0   0   0    0 -107.5 -93 -87 -108;\n",
    "\t\t\t\t   0    0    0    0    0    0   -7      0   0   0    0      0   0   0    0      5   8   4 20.5;\n",
    "\t\t\t\t   1    0    0    0    0    0    0      1   0   0    0      1   0   0    0      1   0   0    0;\n",
    "\t\t\t\t   0    1    0    0    0    0    0      0   1   0    0      0   1   0    0      0   1   0    0;\n",
    "\t\t\t\t   0    0    1    0    0    0    0      0   0   1    0      0   0   1    0      0   0   1    0;\n",
    "\t\t\t\t   0    0    0    1    0    0    0      0   0   0    1      0   0   0    1      0   0   0    1;\n",
    "\t\t\t\t]\n",
    "conditions_b = [0, 0, 0, 0, 0, 0, 0, 0, 0, 0, 0, 0, 3200.0, 2652.0, 4081.0, 1300.0]\n",
    "\n",
    "# simplex(object, conditions_A, conditions_b; format=Standard)\n",
    "two_phase_simplex(object, conditions_A, conditions_b; format=Standard)"
   ]
  },
  {
   "cell_type": "code",
   "execution_count": 25,
   "metadata": {},
   "outputs": [
    {
     "name": "stdout",
     "output_type": "stream",
     "text": [
      "収束しました\n",
      "実行可能解を得られませんでした\n",
      "非基底ベクトル：[5, 7, 2, 3] = [0.0, 0.0, 0.0, 0.0]\n",
      "基底ベクトル：[4, 6, 8, 1] = [6.0, 10.0, 5.0, 5.0]\n",
      "補助変数は 8 です\n"
     ]
    }
   ],
   "source": [
    "# しっかり学ぶ数理最適化\n",
    "# 演習問題2.3.1\n",
    "object       = [-16 -2 3]\n",
    "conditions_A = [\n",
    "\t\t\t\t-1  6  0;\n",
    "\t\t\t\t 0  3  7;\n",
    "\t\t\t\t 1  1  1;\n",
    "\t\t\t\t-1 -1 -1;\n",
    "\t\t\t\t]\n",
    "conditions_b = [-4, -5, 10, -10]\n",
    "\n",
    "# simplex(object, conditions_A, conditions_b; format=Standard)\n",
    "two_phase_simplex(object, conditions_A, conditions_b; format=Standard)"
   ]
  },
  {
   "cell_type": "code",
   "execution_count": 30,
   "metadata": {},
   "outputs": [
    {
     "name": "stdout",
     "output_type": "stream",
     "text": [
      "収束しました\n",
      "実行可能解を発見しました\n",
      "非基底ベクトル：[7, 2, 9, 8, 3] = [0.0, 0.0, 0.0, 0.0, 0.0]\n",
      "基底ベクトル：[5, 4, 6, 1] = [2.5, 3.5714285714285703, 17.5, 7.5]\n",
      "補助変数は 9 です\n",
      "基数の初期値を設定しました：Set([7, 2, 8, 3])\n",
      "単体法を実行します\n",
      "収束しました\n",
      "結果：0回の反復試行を行いました\n"
     ]
    },
    {
     "data": {
      "text/plain": [
       "([7.5, 0.0, 0.0, 3.5714285714285703], 16.071428571428577)"
      ]
     },
     "metadata": {},
     "output_type": "display_data"
    }
   ],
   "source": [
    "# しっかり学ぶ数理最適化\n",
    "# 演習問題2.3.2\n",
    "object       = [5 6 3 -6]\n",
    "conditions_A = [\n",
    "\t\t\t\t 1  0 -1  0;\n",
    "\t\t\t\t-1  0  1  0;\n",
    "\t\t\t\t10  7  4 -7;\n",
    "\t\t\t\t-2  0 11  0;\n",
    "\t\t\t\t]\n",
    "conditions_b = [10, 10, 50, -15]\n",
    "\n",
    "# simplex(object, conditions_A, conditions_b; format=Standard)\n",
    "two_phase_simplex(object, conditions_A, conditions_b; format=Standard)"
   ]
  },
  {
   "cell_type": "code",
   "execution_count": 34,
   "metadata": {},
   "outputs": [
    {
     "name": "stdout",
     "output_type": "stream",
     "text": [
      "収束しました\n",
      "結果：2回の反復試行を行いました\n"
     ]
    },
    {
     "data": {
      "text/plain": [
       "([0.0, 10.0, 10.0, 0.0, 0.0, 20.0], 180.0)"
      ]
     },
     "metadata": {},
     "output_type": "display_data"
    }
   ],
   "source": [
    "# しっかり学ぶ数理最適化\n",
    "# 演習問題2.4.1\n",
    "object       = [4 8 10]\n",
    "conditions_A = [\n",
    "\t\t\t\t 1  1  1;\n",
    "\t\t\t\t 3  4  6;\n",
    "\t\t\t\t 4  5  3;\n",
    "\t\t\t\t]\n",
    "conditions_b = [20, 100, 100]\n",
    "\n",
    "simplex(object, conditions_A, conditions_b; format=Standard)\n",
    "# two_phase_simplex(object, conditions_A, conditions_b; format=Standard)"
   ]
  },
  {
   "cell_type": "code",
   "execution_count": 35,
   "metadata": {},
   "outputs": [
    {
     "name": "stdout",
     "output_type": "stream",
     "text": [
      "収束に失敗しました\n",
      "設定された問題は非有界です\n",
      "結果：1回の反復試行を行いました\n"
     ]
    },
    {
     "data": {
      "text/plain": [
       "([0.0, 5.0, 0.0, 0.0, 20.0, 25.0], 15.0)"
      ]
     },
     "metadata": {},
     "output_type": "display_data"
    }
   ],
   "source": [
    "# しっかり学ぶ数理最適化\n",
    "# 演習問題2.4.2\n",
    "object       = [1 3 -1]\n",
    "conditions_A = [\n",
    "\t\t\t\t 2  2 -1;\n",
    "\t\t\t\t 3 -2  1;\n",
    "\t\t\t\t 1 -3  1;\n",
    "\t\t\t\t]\n",
    "conditions_b = [10, 10, 10]\n",
    "\n",
    "simplex(object, conditions_A, conditions_b; format=Standard)\n",
    "# two_phase_simplex(object, conditions_A, conditions_b; format=Standard)"
   ]
  },
  {
   "cell_type": "code",
   "execution_count": 36,
   "metadata": {},
   "outputs": [
    {
     "name": "stdout",
     "output_type": "stream",
     "text": [
      "収束しました\n",
      "結果：3回の反復試行を行いました\n"
     ]
    },
    {
     "data": {
      "text/plain": [
       "([0.0, 100.0, 1.0, 0.0], 100.0)"
      ]
     },
     "metadata": {},
     "output_type": "display_data"
    }
   ],
   "source": [
    "# しっかり学ぶ数理最適化\n",
    "# 演習問題2.4.3\n",
    "object       = [10 1]\n",
    "conditions_A = [\n",
    "\t\t\t\t 1  0;\n",
    "\t\t\t\t20  1;\n",
    "\t\t\t\t]\n",
    "conditions_b = [1, 100]\n",
    "\n",
    "simplex(object, conditions_A, conditions_b; format=Standard)\n",
    "# two_phase_simplex(object, conditions_A, conditions_b; format=Standard)"
   ]
  },
  {
   "cell_type": "code",
   "execution_count": 37,
   "metadata": {},
   "outputs": [
    {
     "name": "stdout",
     "output_type": "stream",
     "text": [
      "収束しました\n",
      "実行可能解を発見しました\n",
      "非基底ベクトル：[5, 4, 6, 3] = [0.0, 0.0, 0.0, 0.0]\n",
      "基底ベクトル：[2, 1] = [1.7999999999999998, 0.8]\n",
      "補助変数は 6 です\n",
      "基数の初期値を設定しました：Set([5, 4, 3])\n",
      "単体法を実行します\n",
      "収束しました\n",
      "結果：0回の反復試行を行いました\n"
     ]
    },
    {
     "data": {
      "text/plain": [
       "([0.8, 1.7999999999999998, 0.0], -7.0)"
      ]
     },
     "metadata": {},
     "output_type": "display_data"
    }
   ],
   "source": [
    "# しっかり学ぶ数理最適化\n",
    "# 演習問題2.5.1\n",
    "object       = [-2 -3 -1]\n",
    "conditions_A = [\n",
    "\t\t\t\t-1 -4 -2;\n",
    "\t\t\t\t-3 -2  0;\n",
    "\t\t\t\t]\n",
    "conditions_b = [-8, -6]\n",
    "\n",
    "# simplex(object, conditions_A, conditions_b; format=Standard)\n",
    "two_phase_simplex(object, conditions_A, conditions_b; format=Standard)"
   ]
  },
  {
   "cell_type": "code",
   "execution_count": 38,
   "metadata": {},
   "outputs": [
    {
     "name": "stdout",
     "output_type": "stream",
     "text": [
      "収束しました\n",
      "実行可能解を発見しました\n",
      "非基底ベクトル：[5, 6, 7, 1] = [0.0, 0.0, 0.0, 0.0]\n",
      "基底ベクトル：[4, 2, 3] = [3.0, 2.1999999999999997, 1.5999999999999999]\n",
      "補助変数は 7 です\n",
      "基数の初期値を設定しました：Set([5, 6, 1])\n",
      "単体法を実行します\n",
      "収束しました\n",
      "結果：1回の反復試行を行いました\n"
     ]
    },
    {
     "data": {
      "text/plain": [
       "([0.0, 2.8, 3.4], 0.6000000000000001)"
      ]
     },
     "metadata": {},
     "output_type": "display_data"
    }
   ],
   "source": [
    "# しっかり学ぶ数理最適化\n",
    "# 演習問題2.5.2\n",
    "object       = [1 -1  1]\n",
    "conditions_A = [\n",
    "\t\t\t\t 2 -1  2;\n",
    "\t\t\t\t 2 -3  1;\n",
    "\t\t\t\t-1  1 -2;\n",
    "\t\t\t\t]\n",
    "conditions_b = [4, -5, -1]\n",
    "\n",
    "# simplex(object, conditions_A, conditions_b; format=Standard)\n",
    "two_phase_simplex(object, conditions_A, conditions_b; format=Standard)"
   ]
  },
  {
   "cell_type": "code",
   "execution_count": 39,
   "metadata": {},
   "outputs": [
    {
     "name": "stdout",
     "output_type": "stream",
     "text": [
      "収束しました\n",
      "実行可能解を得られませんでした\n",
      "非基底ベクトル：[5, 4, 1] = [0.0, 0.0, 0.0]\n",
      "基底ベクトル：[6, 2, 3] = [0.5, 2.5, 2.0]\n",
      "補助変数は 6 です\n"
     ]
    }
   ],
   "source": [
    "# しっかり学ぶ数理最適化\n",
    "# 演習問題2.5.3\n",
    "object       = [ 3  1]\n",
    "conditions_A = [\n",
    "\t\t\t\t 1 -1;\n",
    "\t\t\t\t-1 -1;\n",
    "\t\t\t\t 2  1;\n",
    "\t\t\t\t]\n",
    "conditions_b = [-1, -3, 2]\n",
    "\n",
    "# simplex(object, conditions_A, conditions_b; format=Standard)\n",
    "two_phase_simplex(object, conditions_A, conditions_b; format=Standard)"
   ]
  },
  {
   "cell_type": "code",
   "execution_count": 41,
   "metadata": {},
   "outputs": [
    {
     "data": {
      "text/plain": [
       "1×2 Matrix{Int64}:\n",
       " -4  -6"
      ]
     },
     "metadata": {},
     "output_type": "display_data"
    },
    {
     "data": {
      "text/plain": [
       "3×2 Matrix{Int64}:\n",
       " -2  -1\n",
       " -2  -2\n",
       " -1  -2"
      ]
     },
     "metadata": {},
     "output_type": "display_data"
    },
    {
     "data": {
      "text/plain": [
       "3-element Vector{Int64}:\n",
       " -1\n",
       " -4\n",
       " -3"
      ]
     },
     "metadata": {},
     "output_type": "display_data"
    },
    {
     "data": {
      "text/plain": [
       "Standard::LP_Prob = 0"
      ]
     },
     "metadata": {},
     "output_type": "display_data"
    }
   ],
   "source": [
    "# しっかり学ぶ数理最適化\n",
    "# 演習問題2.6.1\n",
    "object       = [1 4 3]\n",
    "conditions_A = [2 2 1; 1 2 2]\n",
    "conditions_b = [4, 6]\n",
    "format       = Standard\n",
    "\n",
    "dual_object, dual_conditions_A, dual_conditions_b, dual_format = convert_dual_problem(object, conditions_A, conditions_b; format=format)\n",
    "display(dual_object)\n",
    "display(dual_conditions_A)\n",
    "display(dual_conditions_b)\n",
    "display(dual_format)"
   ]
  },
  {
   "cell_type": "code",
   "execution_count": 43,
   "metadata": {},
   "outputs": [
    {
     "data": {
      "text/plain": [
       "1×4 Matrix{Int64}:\n",
       " 0  3  -6  6"
      ]
     },
     "metadata": {},
     "output_type": "display_data"
    },
    {
     "data": {
      "text/plain": [
       "5×4 Matrix{Int64}:\n",
       "  2  -3  -1   1\n",
       " -3   1   1  -1\n",
       "  1   4  -2   2\n",
       " -1  -2  -1   1\n",
       "  1   2   1  -1"
      ]
     },
     "metadata": {},
     "output_type": "display_data"
    },
    {
     "data": {
      "text/plain": [
       "5-element Vector{Int64}:\n",
       " -1\n",
       " -1\n",
       "  0\n",
       "  0\n",
       "  0"
      ]
     },
     "metadata": {},
     "output_type": "display_data"
    },
    {
     "data": {
      "text/plain": [
       "Standard::LP_Prob = 0"
      ]
     },
     "metadata": {},
     "output_type": "display_data"
    }
   ],
   "source": [
    "# しっかり学ぶ数理最適化\n",
    "# 演習問題2.6.2\n",
    "object       = [ 1  1  0  0  0]\n",
    "conditions_A = [-2  3 -1  1 -1;\n",
    "\t\t\t\t 3 -1 -4  2 -2;\n",
    "\t\t\t\t 1 -1  2  1 -1;\n",
    "\t\t\t\t-1  1 -2 -1  1]\n",
    "conditions_b = [0, -3, 6, -6]\n",
    "format       = Standard\n",
    "\n",
    "dual_object, dual_conditions_A, dual_conditions_b, dual_format = convert_dual_problem(object, conditions_A, conditions_b; format=format)\n",
    "display(dual_object)\n",
    "display(dual_conditions_A)\n",
    "display(dual_conditions_b)\n",
    "display(dual_format)"
   ]
  }
 ],
 "metadata": {
  "kernelspec": {
   "display_name": "Julia 1.11.2",
   "language": "julia",
   "name": "julia-1.11"
  },
  "language_info": {
   "file_extension": ".jl",
   "mimetype": "application/julia",
   "name": "julia",
   "version": "1.11.2"
  }
 },
 "nbformat": 4,
 "nbformat_minor": 4
}
