{
 "cells": [
  {
   "cell_type": "code",
   "execution_count": 1,
   "metadata": {},
   "outputs": [
    {
     "data": {
      "text/plain": [
       "\"utf8\""
      ]
     },
     "metadata": {},
     "output_type": "display_data"
    }
   ],
   "source": [
    "push!(LOAD_PATH, pwd() * \"/my_module\")\n",
    "ENV[\"GKS_ENCODING\"]=\"utf8\""
   ]
  },
  {
   "cell_type": "code",
   "execution_count": 2,
   "metadata": {},
   "outputs": [
    {
     "data": {
      "text/plain": [
       "Plots.GRBackend()"
      ]
     },
     "metadata": {},
     "output_type": "display_data"
    }
   ],
   "source": [
    "using Revise\n",
    "using Plots\n",
    "using linear_prog_prob: simplex, two_phase_simplex\n",
    "\n",
    "gr(fontfamily=\"IPAMincho\")"
   ]
  },
  {
   "cell_type": "code",
   "execution_count": null,
   "metadata": {},
   "outputs": [],
   "source": [
    "x_data = 0:1:8\n",
    "plt = plot()\n",
    "plot!(plt, x_data, 5  .- x_data ./ 2,            label=\"制約条件1\", ylim=(0,6))\n",
    "plot!(plt, x_data, 6  .- x_data .* (3 / 4),      label=\"制約条件2\", ylim=(0,6))\n",
    "plot!(plt, x_data, 14 .- x_data .* 2,            label=\"制約条件3\", ylim=(0,6))\n",
    "plot!(plt, [0, 0, 4, 6.4, 7], [0, 5, 3, 1.2, 0], label=\"解の候補\",  st=:scatter)"
   ]
  },
  {
   "cell_type": "code",
   "execution_count": null,
   "metadata": {},
   "outputs": [],
   "source": [
    "object       = [5 8 0 0 0]\n",
    "conditions_A = [1 2 1 0 0; 3 4 0 1 0; 2 1 0 0 1]\n",
    "conditions_b = [10, 24, 14]\n",
    "\n",
    "simplex(object, conditions_A, conditions_b)"
   ]
  },
  {
   "cell_type": "code",
   "execution_count": null,
   "metadata": {},
   "outputs": [],
   "source": [
    "object       = [1 2 0 0 0]\n",
    "conditions_A = [1 1 1 0 0; 1 3 0 1 0; 2 1 0 0 1]\n",
    "conditions_b = [6, 12, 10]\n",
    "\n",
    "simplex(object, conditions_A, conditions_b)"
   ]
  },
  {
   "cell_type": "code",
   "execution_count": null,
   "metadata": {},
   "outputs": [],
   "source": [
    "object       = [2 1 0 0]\n",
    "conditions_A = [1 -2 1 0; -1 1 0 1]\n",
    "conditions_b = [4, 2]\n",
    "\n",
    "simplex(object, conditions_A, conditions_b)"
   ]
  },
  {
   "cell_type": "code",
   "execution_count": null,
   "metadata": {},
   "outputs": [],
   "source": [
    "object       = [3 2 0 0]\n",
    "conditions_A = [2 1 1 0; 1 1 0 1]\n",
    "conditions_b = [6, 3]\n",
    "\n",
    "simplex(object, conditions_A, conditions_b)"
   ]
  },
  {
   "cell_type": "code",
   "execution_count": null,
   "metadata": {},
   "outputs": [],
   "source": [
    "num          = 10\n",
    "object       = [(if idx  >= num    BigInt(10)^(idx  - num)                                      else 0 end) for idx  in (2*num - 1):-1:0]'\n",
    "conditions_A = [(if idx2 >  idx1 2*BigInt(10)^(idx2 - idx1) elseif idx2 in [idx1, idx1 - num] 1 else 0 end) for idx1 in (2*num - 1):-1:num, idx2 in (2*num - 1):-1:0]\n",
    "conditions_b = [BigInt(100)^idx for idx in 0:(num - 1)]\n",
    "\n",
    "\n",
    "object       = BigFloat.(object)\n",
    "conditions_A = BigFloat.(conditions_A)\n",
    "conditions_b = BigFloat.(conditions_b)\n",
    "\n",
    "println(\"理論上、\", BigInt(2)^num - 1, \"回の反復試行を必要とします\")\n",
    "x, z = simplex(object, conditions_A, conditions_b)\n",
    "\n",
    "display(x)\n",
    "display(z)"
   ]
  },
  {
   "cell_type": "code",
   "execution_count": null,
   "metadata": {},
   "outputs": [],
   "source": [
    "object       = [1 2 0 0 0]\n",
    "conditions_A = [1 1 1 0 0; 1 3 0 1 0; -3 -2 0 0 1]\n",
    "conditions_b = [6, 12, -6]\n",
    "\n",
    "simplex(object, conditions_A, conditions_b)"
   ]
  },
  {
   "cell_type": "code",
   "execution_count": null,
   "metadata": {},
   "outputs": [],
   "source": [
    "using Plots\n",
    "\n",
    "# 制約条件のプロット\n",
    "plot(x -> 6 - x, 0, 7, label=\"x1 + x2 = 6\", xlims=(0, 7), ylims=(0, 6))\n",
    "plot!(x -> (12 - x) / 3, 0, 7, label=\"x1 + 3x2 = 12\", xlims=(0, 7), ylims=(0, 6))\n",
    "plot!(x -> (-6 + 3x) / -2, 0, 7, label=\"-3x1 - 2x2 = -6\", xlims=(0, 7), ylims=(0, 6))"
   ]
  },
  {
   "cell_type": "code",
   "execution_count": 9,
   "metadata": {},
   "outputs": [
    {
     "name": "stdout",
     "output_type": "stream",
     "text": [
      "収束しました\n",
      "実行可能解を発見しました\n",
      "基底ベクトル：[4, 3, 1] = [10.0, 4.0, 2.0]\n",
      "収束しました\n",
      "結果：3回の反復試行を行いました\n"
     ]
    },
    {
     "data": {
      "text/plain": [
       "([2.9999999999999996, 3.0, 0.0, 0.0, 8.999999999999998], 9.0)"
      ]
     },
     "metadata": {},
     "output_type": "display_data"
    }
   ],
   "source": [
    "object       = [1 2 0 0 0]\n",
    "conditions_A = [1 1 1 0 0; 1 3 0 1 0; -3 -2 0 0 1]\n",
    "conditions_b = [6, 12, -6]\n",
    "\n",
    "two_phase_simplex(object, conditions_A, conditions_b)"
   ]
  }
 ],
 "metadata": {
  "kernelspec": {
   "display_name": "Julia 1.11.2",
   "language": "julia",
   "name": "julia-1.11"
  },
  "language_info": {
   "file_extension": ".jl",
   "mimetype": "application/julia",
   "name": "julia",
   "version": "1.11.2"
  }
 },
 "nbformat": 4,
 "nbformat_minor": 4
}
